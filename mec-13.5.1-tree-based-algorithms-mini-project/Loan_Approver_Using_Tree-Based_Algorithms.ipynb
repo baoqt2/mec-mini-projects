{
 "cells": [
  {
   "cell_type": "markdown",
   "metadata": {},
   "source": [
    "# Mini Project: Tree-Based Algorithms"
   ]
  },
  {
   "cell_type": "markdown",
   "metadata": {},
   "source": [
    "## The \"German Credit\" Dataset"
   ]
  },
  {
   "cell_type": "markdown",
   "metadata": {},
   "source": [
    "### Dataset Details"
   ]
  },
  {
   "cell_type": "markdown",
   "metadata": {},
   "source": [
    "This dataset has two classes (these would be considered labels in Machine Learning terms) to describe the worthiness of a personal loan: \"Good\" or \"Bad\". There are predictors related to attributes, such as: checking account status, duration, credit history, purpose of the loan, amount of the loan, savings accounts or bonds, employment duration, installment rate in percentage of disposable income, personal information, other debtors/guarantors, residence duration, property, age, other installment plans, housing, number of existing credits, job information, number of people being liable to provide maintenance for, telephone, and foreign worker status.\n",
    "\n",
    "Many of these predictors are discrete and have been expanded into several 0/1 indicator variables (a.k.a. they have been one-hot-encoded).\n",
    "\n",
    "This dataset has been kindly provided by Professor Dr. Hans Hofmann of the University of Hamburg, and can also be found on the UCI Machine Learning Repository."
   ]
  },
  {
   "cell_type": "markdown",
   "metadata": {},
   "source": [
    "\n",
    "\n",
    "\n"
   ]
  },
  {
   "cell_type": "markdown",
   "metadata": {},
   "source": [
    "## Decision Trees"
   ]
  },
  {
   "cell_type": "markdown",
   "metadata": {},
   "source": [
    " As we have learned in the previous lectures, Decision Trees as a family of algorithms (irrespective to the particular implementation) are powerful algorithms that can produce models with a predictive accuracy higher than that produced by linear models, such as Linear or Logistic Regression. Primarily, this is due to the fact the DT's can model nonlinear relationships, and also have a number of tuning paramters, that allow for the practicioner to achieve the best possible model. An added bonus is the ability to visualize the trained Decision Tree model, which allows for some insight into how the model has produced the predictions that it has. One caveat here, to keep in mind, is that sometimes, due to the size of the dataset (both in the sense of the number of records, as well as the number of features), the visualization might prove to be very large and complex, increasing the difficulty of interpretation."
   ]
  },
  {
   "cell_type": "markdown",
   "metadata": {},
   "source": [
    "To give you a very good example of how Decision Trees can be visualized and interpreted, we would strongly recommend that, before continuing on with solving the problems in this Mini Project, you take the time to read this fanstastic, detailed and informative blog post: http://explained.ai/decision-tree-viz/index.html"
   ]
  },
  {
   "cell_type": "markdown",
   "metadata": {},
   "source": [
    "## Building Your First Decision Tree Model"
   ]
  },
  {
   "cell_type": "markdown",
   "metadata": {},
   "source": [
    "So, now it's time to jump straight into the heart of the matter. Your first task, is to build a Decision Tree model, using the aforementioned \"German Credit\" dataset, which contains 1,000 records, and 62 columns (one of them presents the labels, and the other 61 present the potential features for the model.)"
   ]
  },
  {
   "cell_type": "markdown",
   "metadata": {},
   "source": [
    "For this task, you will be using the scikit-learn library, which comes already pre-installed with the Anaconda Python distribution. In case you're not using that, you can easily install it using pip."
   ]
  },
  {
   "cell_type": "markdown",
   "metadata": {},
   "source": [
    "Before embarking on creating your first model, we would strongly encourage you to read the short tutorial for Decision Trees in scikit-learn (http://scikit-learn.org/stable/modules/tree.html), and then dive a bit deeper into the documentation of the algorithm itself (http://scikit-learn.org/stable/modules/generated/sklearn.tree.DecisionTreeClassifier.html). "
   ]
  },
  {
   "cell_type": "markdown",
   "metadata": {},
   "source": [
    "Also, since you want to be able to present the results of your model, we suggest you take a look at the tutorial for accuracy metrics for classification models (http://scikit-learn.org/stable/modules/model_evaluation.html#classification-report) as well as the more detailed documentation (http://scikit-learn.org/stable/modules/generated/sklearn.metrics.classification_report.html).\n",
    "\n",
    "Finally, an *amazing* resource that explains the various classification model accuracy metrics, as well as the relationships between them, can be found on Wikipedia: https://en.wikipedia.org/wiki/Confusion_matrix"
   ]
  },
  {
   "cell_type": "markdown",
   "metadata": {},
   "source": [
    "(Note: as you've already learned in the Logistic Regression mini project, a standard practice in Machine Learning for achieving the best possible result when training a model is to use hyperparameter tuning, through Grid Search and k-fold Cross Validation. We strongly encourage you to use it here as well, not just because it's standard practice, but also becuase it's not going to be computationally to intensive, due to the size of the dataset that you're working with. Our suggestion here is that you split the data into 70% training, and 30% testing. Then, do the hyperparameter tuning and Cross Validation on the training set, and afterwards to a final test on the testing set.)"
   ]
  },
  {
   "cell_type": "markdown",
   "metadata": {},
   "source": [
    "### Now we pass the torch onto you! You can start building your first Decision Tree model! :)"
   ]
  },
  {
   "cell_type": "code",
   "execution_count": 1,
   "metadata": {},
   "outputs": [],
   "source": [
    "import pandas as pd\n",
    "from sklearn.tree import DecisionTreeClassifier\n",
    "from sklearn.metrics import classification_report\n",
    "from sklearn.model_selection import train_test_split\n",
    "from sklearn.model_selection import GridSearchCV"
   ]
  },
  {
   "cell_type": "code",
   "execution_count": 5,
   "metadata": {},
   "outputs": [
    {
     "name": "stdout",
     "output_type": "stream",
     "text": [
      "[1, 0, 1, 1, 0]\n"
     ]
    }
   ],
   "source": [
    "# Your code here! :)\n",
    "%matplotlib inline\n",
    "import matplotlib.pyplot as plt\n",
    "# Y = ['Bad','Good'] #0 is bad, 1 is good\n",
    "df = pd.read_csv('GermanCredit.csv.zip')\n",
    "Y =  [1 if x == 'Good' else 0 for x in df['Class']]\n",
    "clf = DecisionTreeClassifier() \n",
    "\n",
    "print(Y[:5])"
   ]
  },
  {
   "cell_type": "code",
   "execution_count": 16,
   "metadata": {},
   "outputs": [],
   "source": [
    "#Use PolynomialFeatures in sklearn.preprocessing to create two-way interactions for all features\n",
    "from itertools import combinations\n",
    "from sklearn.preprocessing import PolynomialFeatures\n",
    "\n",
    "def add_interactions(df):\n",
    "    #get feature names\n",
    "    combos = list(combinations(list(df.columns),2))\n",
    "    colnames = list(df.columns) + ['_'.join(x) for x in combos]\n",
    "    \n",
    "    #Find interactions\n",
    "    poly = PolynomialFeatures(interaction_only=True,include_bias=False)\n",
    "    df= poly.fit_transform(X)\n",
    "    df = pd.DataFrame(df)\n",
    "    df.columns = colnames\n",
    "    \n",
    "    #Remove interaction terms wth all 0 values\n",
    "    noint_indicies = [i for i,x in enumerate(list((df==0).all())) if x]\n",
    "    df = df.drop(df.columns[noint_indicies],axis=1)\n",
    "    return df"
   ]
  },
  {
   "cell_type": "code",
   "execution_count": 6,
   "metadata": {},
   "outputs": [
    {
     "name": "stdout",
     "output_type": "stream",
     "text": [
      "Feature 'Duration' has 33 unique categories\n",
      "Feature 'Amount' has 921 unique categories\n",
      "Feature 'InstallmentRatePercentage' has 4 unique categories\n",
      "Feature 'ResidenceDuration' has 4 unique categories\n",
      "Feature 'Age' has 53 unique categories\n",
      "Feature 'NumberExistingCredits' has 4 unique categories\n",
      "Feature 'NumberPeopleMaintenance' has 2 unique categories\n",
      "Feature 'Telephone' has 2 unique categories\n",
      "Feature 'ForeignWorker' has 2 unique categories\n",
      "Feature 'CheckingAccountStatus.lt.0' has 2 unique categories\n",
      "Feature 'CheckingAccountStatus.0.to.200' has 2 unique categories\n",
      "Feature 'CheckingAccountStatus.gt.200' has 2 unique categories\n",
      "Feature 'CheckingAccountStatus.none' has 2 unique categories\n",
      "Feature 'CreditHistory.NoCredit.AllPaid' has 2 unique categories\n",
      "Feature 'CreditHistory.ThisBank.AllPaid' has 2 unique categories\n",
      "Feature 'CreditHistory.PaidDuly' has 2 unique categories\n",
      "Feature 'CreditHistory.Delay' has 2 unique categories\n",
      "Feature 'CreditHistory.Critical' has 2 unique categories\n",
      "Feature 'Purpose.NewCar' has 2 unique categories\n",
      "Feature 'Purpose.UsedCar' has 2 unique categories\n",
      "Feature 'Purpose.Furniture.Equipment' has 2 unique categories\n",
      "Feature 'Purpose.Radio.Television' has 2 unique categories\n",
      "Feature 'Purpose.DomesticAppliance' has 2 unique categories\n",
      "Feature 'Purpose.Repairs' has 2 unique categories\n",
      "Feature 'Purpose.Education' has 2 unique categories\n",
      "Feature 'Purpose.Vacation' has 1 unique categories\n",
      "Feature 'Purpose.Retraining' has 2 unique categories\n",
      "Feature 'Purpose.Business' has 2 unique categories\n",
      "Feature 'Purpose.Other' has 2 unique categories\n",
      "Feature 'SavingsAccountBonds.lt.100' has 2 unique categories\n",
      "Feature 'SavingsAccountBonds.100.to.500' has 2 unique categories\n",
      "Feature 'SavingsAccountBonds.500.to.1000' has 2 unique categories\n",
      "Feature 'SavingsAccountBonds.gt.1000' has 2 unique categories\n",
      "Feature 'SavingsAccountBonds.Unknown' has 2 unique categories\n",
      "Feature 'EmploymentDuration.lt.1' has 2 unique categories\n",
      "Feature 'EmploymentDuration.1.to.4' has 2 unique categories\n",
      "Feature 'EmploymentDuration.4.to.7' has 2 unique categories\n",
      "Feature 'EmploymentDuration.gt.7' has 2 unique categories\n",
      "Feature 'EmploymentDuration.Unemployed' has 2 unique categories\n",
      "Feature 'Personal.Male.Divorced.Seperated' has 2 unique categories\n",
      "Feature 'Personal.Female.NotSingle' has 2 unique categories\n",
      "Feature 'Personal.Male.Single' has 2 unique categories\n",
      "Feature 'Personal.Male.Married.Widowed' has 2 unique categories\n",
      "Feature 'Personal.Female.Single' has 1 unique categories\n",
      "Feature 'OtherDebtorsGuarantors.None' has 2 unique categories\n",
      "Feature 'OtherDebtorsGuarantors.CoApplicant' has 2 unique categories\n",
      "Feature 'OtherDebtorsGuarantors.Guarantor' has 2 unique categories\n",
      "Feature 'Property.RealEstate' has 2 unique categories\n",
      "Feature 'Property.Insurance' has 2 unique categories\n",
      "Feature 'Property.CarOther' has 2 unique categories\n",
      "Feature 'Property.Unknown' has 2 unique categories\n",
      "Feature 'OtherInstallmentPlans.Bank' has 2 unique categories\n",
      "Feature 'OtherInstallmentPlans.Stores' has 2 unique categories\n",
      "Feature 'OtherInstallmentPlans.None' has 2 unique categories\n",
      "Feature 'Housing.Rent' has 2 unique categories\n",
      "Feature 'Housing.Own' has 2 unique categories\n",
      "Feature 'Housing.ForFree' has 2 unique categories\n",
      "Feature 'Job.UnemployedUnskilled' has 2 unique categories\n",
      "Feature 'Job.UnskilledResident' has 2 unique categories\n",
      "Feature 'Job.SkilledEmployee' has 2 unique categories\n",
      "Feature 'Job.Management.SelfEmp.HighlyQualified' has 2 unique categories\n"
     ]
    }
   ],
   "source": [
    "X = df.drop('Class',1)\n",
    "#Decide which categorical variables you want to use in model\n",
    "for col_name in X.columns:\n",
    "    if X[col_name].dtype != 'object':\n",
    "        unique_cat = len(X[col_name].unique())\n",
    "        print(\"Feature '{col_name}' has {unique_cat} unique categories\".format(col_name=col_name, unique_cat=unique_cat))"
   ]
  },
  {
   "cell_type": "code",
   "execution_count": 17,
   "metadata": {},
   "outputs": [
    {
     "name": "stdout",
     "output_type": "stream",
     "text": [
      "   Duration  Amount  InstallmentRatePercentage  ResidenceDuration   Age  \\\n",
      "0       6.0  1169.0                        4.0                4.0  67.0   \n",
      "1      48.0  5951.0                        2.0                2.0  22.0   \n",
      "2      12.0  2096.0                        2.0                3.0  49.0   \n",
      "3      42.0  7882.0                        2.0                4.0  45.0   \n",
      "4      24.0  4870.0                        3.0                4.0  53.0   \n",
      "\n",
      "   NumberExistingCredits  NumberPeopleMaintenance  Telephone  ForeignWorker  \\\n",
      "0                    2.0                      1.0        0.0            1.0   \n",
      "1                    1.0                      1.0        1.0            1.0   \n",
      "2                    1.0                      2.0        1.0            1.0   \n",
      "3                    1.0                      2.0        1.0            1.0   \n",
      "4                    2.0                      2.0        1.0            1.0   \n",
      "\n",
      "   CheckingAccountStatus.lt.0  ...  Housing.Rent_Job.SkilledEmployee  \\\n",
      "0                         1.0  ...                               0.0   \n",
      "1                         0.0  ...                               0.0   \n",
      "2                         0.0  ...                               0.0   \n",
      "3                         1.0  ...                               0.0   \n",
      "4                         1.0  ...                               0.0   \n",
      "\n",
      "   Housing.Rent_Job.Management.SelfEmp.HighlyQualified  \\\n",
      "0                                                0.0     \n",
      "1                                                0.0     \n",
      "2                                                0.0     \n",
      "3                                                0.0     \n",
      "4                                                0.0     \n",
      "\n",
      "   Housing.Own_Job.UnemployedUnskilled  Housing.Own_Job.UnskilledResident  \\\n",
      "0                                  0.0                                0.0   \n",
      "1                                  0.0                                0.0   \n",
      "2                                  0.0                                1.0   \n",
      "3                                  0.0                                0.0   \n",
      "4                                  0.0                                0.0   \n",
      "\n",
      "   Housing.Own_Job.SkilledEmployee  \\\n",
      "0                              1.0   \n",
      "1                              1.0   \n",
      "2                              0.0   \n",
      "3                              0.0   \n",
      "4                              0.0   \n",
      "\n",
      "   Housing.Own_Job.Management.SelfEmp.HighlyQualified  \\\n",
      "0                                                0.0    \n",
      "1                                                0.0    \n",
      "2                                                0.0    \n",
      "3                                                0.0    \n",
      "4                                                0.0    \n",
      "\n",
      "   Housing.ForFree_Job.UnemployedUnskilled  \\\n",
      "0                                      0.0   \n",
      "1                                      0.0   \n",
      "2                                      0.0   \n",
      "3                                      0.0   \n",
      "4                                      0.0   \n",
      "\n",
      "   Housing.ForFree_Job.UnskilledResident  Housing.ForFree_Job.SkilledEmployee  \\\n",
      "0                                    0.0                                  0.0   \n",
      "1                                    0.0                                  0.0   \n",
      "2                                    0.0                                  0.0   \n",
      "3                                    0.0                                  1.0   \n",
      "4                                    0.0                                  1.0   \n",
      "\n",
      "   Housing.ForFree_Job.Management.SelfEmp.HighlyQualified  \n",
      "0                                                0.0       \n",
      "1                                                0.0       \n",
      "2                                                0.0       \n",
      "3                                                0.0       \n",
      "4                                                0.0       \n",
      "\n",
      "[5 rows x 1613 columns]\n"
     ]
    }
   ],
   "source": [
    "X = add_interactions(X)\n",
    "print(X.head(5))"
   ]
  },
  {
   "cell_type": "code",
   "execution_count": 18,
   "metadata": {},
   "outputs": [],
   "source": [
    "def plot_histogram_dv(x,y):\n",
    "    plt.hist(list(x[y==0]),alpha=0.5,label='DV=0')\n",
    "    plt.hist(list(x[y==1]),alpha=0.5,label='DV=1')\n",
    "    plt.title(\"Histogram of '{var_name}' by DV Category\".format(var_name=x.name))\n",
    "    plt.xlabel(\"Value\")\n",
    "    plt.ylabel(\"Frequency\")\n",
    "    plt.legend(loc='upper right')\n",
    "    plt.show()"
   ]
  },
  {
   "cell_type": "code",
   "execution_count": null,
   "metadata": {},
   "outputs": [],
   "source": []
  },
  {
   "cell_type": "code",
   "execution_count": 19,
   "metadata": {},
   "outputs": [
    {
     "data": {
      "text/plain": [
       "(array([300.,   0.,   0.,   0.,   0.,   0.,   0.,   0.,   0., 700.]),\n",
       " array([0. , 0.1, 0.2, 0.3, 0.4, 0.5, 0.6, 0.7, 0.8, 0.9, 1. ]),\n",
       " <BarContainer object of 10 artists>)"
      ]
     },
     "execution_count": 19,
     "metadata": {},
     "output_type": "execute_result"
    },
    {
     "data": {
      "image/png": "[encoded data removed]",
      "text/plain": [
       "<Figure size 432x288 with 1 Axes>"
      ]
     },
     "metadata": {
      "needs_background": "light"
     },
     "output_type": "display_data"
    }
   ],
   "source": [
    "plt.hist(Y)"
   ]
  },
  {
   "cell_type": "markdown",
   "metadata": {},
   "source": [
    "### After you've built the best model you can, now it's time to visualize it!"
   ]
  },
  {
   "cell_type": "markdown",
   "metadata": {},
   "source": [
    "Rememeber that amazing blog post from a few paragraphs ago, that demonstrated how to visualize and interpret the results of your Decision Tree model. We've seen that this can perform very well, but let's see how it does on the \"German Credit\" dataset that we're working on, due to it being a bit larger than the one used by the blog authors."
   ]
  },
  {
   "cell_type": "markdown",
   "metadata": {},
   "source": [
    "First, we're going to need to install their package. If you're using Anaconda, this can be done easily by running:"
   ]
  },
  {
   "cell_type": "code",
   "execution_count": 20,
   "metadata": {},
   "outputs": [
    {
     "name": "stdout",
     "output_type": "stream",
     "text": [
      "Requirement already satisfied: dtreeviz in c:\\users\\bao tran\\anaconda3\\lib\\site-packages (1.3.2)\n",
      "Requirement already satisfied: numpy in c:\\users\\bao tran\\anaconda3\\lib\\site-packages (from dtreeviz) (1.19.2)\n",
      "Requirement already satisfied: graphviz>=0.9 in c:\\users\\bao tran\\anaconda3\\lib\\site-packages (from dtreeviz) (0.18.2)\n",
      "Requirement already satisfied: pandas in c:\\users\\bao tran\\anaconda3\\lib\\site-packages (from dtreeviz) (1.1.3)\n",
      "Requirement already satisfied: colour in c:\\users\\bao tran\\anaconda3\\lib\\site-packages (from dtreeviz) (0.1.5)\n",
      "Requirement already satisfied: scikit-learn in c:\\users\\bao tran\\anaconda3\\lib\\site-packages (from dtreeviz) (0.23.2)\n",
      "Requirement already satisfied: matplotlib in c:\\users\\bao tran\\anaconda3\\lib\\site-packages (from dtreeviz) (3.3.2)\n",
      "Requirement already satisfied: pytest in c:\\users\\bao tran\\anaconda3\\lib\\site-packages (from dtreeviz) (0.0.0)\n",
      "Requirement already satisfied: pytz>=2017.2 in c:\\users\\bao tran\\anaconda3\\lib\\site-packages (from pandas->dtreeviz) (2020.1)\n",
      "Requirement already satisfied: python-dateutil>=2.7.3 in c:\\users\\bao tran\\anaconda3\\lib\\site-packages (from pandas->dtreeviz) (2.8.1)\n",
      "Requirement already satisfied: threadpoolctl>=2.0.0 in c:\\users\\bao tran\\anaconda3\\lib\\site-packages (from scikit-learn->dtreeviz) (2.1.0)\n",
      "Requirement already satisfied: joblib>=0.11 in c:\\users\\bao tran\\anaconda3\\lib\\site-packages (from scikit-learn->dtreeviz) (0.17.0)\n",
      "Requirement already satisfied: scipy>=0.19.1 in c:\\users\\bao tran\\anaconda3\\lib\\site-packages (from scikit-learn->dtreeviz) (1.5.2)\n",
      "Requirement already satisfied: cycler>=0.10 in c:\\users\\bao tran\\anaconda3\\lib\\site-packages (from matplotlib->dtreeviz) (0.10.0)\n",
      "Requirement already satisfied: kiwisolver>=1.0.1 in c:\\users\\bao tran\\anaconda3\\lib\\site-packages (from matplotlib->dtreeviz) (1.3.0)\n",
      "Requirement already satisfied: pillow>=6.2.0 in c:\\users\\bao tran\\anaconda3\\lib\\site-packages (from matplotlib->dtreeviz) (8.0.1)\n",
      "Requirement already satisfied: pyparsing!=2.0.4,!=2.1.2,!=2.1.6,>=2.0.3 in c:\\users\\bao tran\\anaconda3\\lib\\site-packages (from matplotlib->dtreeviz) (2.4.7)\n",
      "Requirement already satisfied: certifi>=2020.06.20 in c:\\users\\bao tran\\anaconda3\\lib\\site-packages (from matplotlib->dtreeviz) (2020.6.20)\n",
      "Requirement already satisfied: attrs>=17.4.0 in c:\\users\\bao tran\\anaconda3\\lib\\site-packages (from pytest->dtreeviz) (20.3.0)\n",
      "Requirement already satisfied: iniconfig in c:\\users\\bao tran\\anaconda3\\lib\\site-packages (from pytest->dtreeviz) (1.1.1)\n",
      "Requirement already satisfied: packaging in c:\\users\\bao tran\\anaconda3\\lib\\site-packages (from pytest->dtreeviz) (20.4)\n",
      "Requirement already satisfied: pluggy<1.0,>=0.12 in c:\\users\\bao tran\\anaconda3\\lib\\site-packages (from pytest->dtreeviz) (0.13.1)\n",
      "Requirement already satisfied: py>=1.8.2 in c:\\users\\bao tran\\anaconda3\\lib\\site-packages (from pytest->dtreeviz) (1.9.0)\n",
      "Requirement already satisfied: toml in c:\\users\\bao tran\\anaconda3\\lib\\site-packages (from pytest->dtreeviz) (0.10.1)\n",
      "Requirement already satisfied: atomicwrites>=1.0 in c:\\users\\bao tran\\anaconda3\\lib\\site-packages (from pytest->dtreeviz) (1.4.0)\n",
      "Requirement already satisfied: colorama in c:\\users\\bao tran\\anaconda3\\lib\\site-packages (from pytest->dtreeviz) (0.4.4)\n",
      "Requirement already satisfied: six>=1.5 in c:\\users\\bao tran\\anaconda3\\lib\\site-packages (from python-dateutil>=2.7.3->pandas->dtreeviz) (1.15.0)\n"
     ]
    }
   ],
   "source": [
    "! pip install dtreeviz"
   ]
  },
  {
   "cell_type": "markdown",
   "metadata": {},
   "source": [
    "If for any reason this way of installing doesn't work for you straight out of the box, please refer to the more detailed documentation here: https://github.com/parrt/dtreeviz"
   ]
  },
  {
   "cell_type": "markdown",
   "metadata": {},
   "source": [
    "Now you're ready to visualize your Decision Tree model! Please feel free to use the blog post for guidance and inspiration!"
   ]
  },
  {
   "cell_type": "code",
   "execution_count": 21,
   "metadata": {},
   "outputs": [],
   "source": [
    "# Your code here! :)\n",
    "X_train, X_test, y_train, y_test = train_test_split(X,Y,train_size = .7,random_state=1)"
   ]
  },
  {
   "cell_type": "code",
   "execution_count": 22,
   "metadata": {},
   "outputs": [],
   "source": [
    "from sklearn.metrics import roc_auc_score\n",
    "\n",
    "def find_model_perf(algo, X_train, y_train, X_test, y_test):\n",
    "#     y_train=y_train.astype('int')\n",
    "#     y_test=y_test.astype('int')\n",
    "    model=algo()\n",
    "    model.fit(X_train,y_train)\n",
    "    y_hat = [x[1] for x in model.predict_proba(X_test)]\n",
    "    auc = roc_auc_score(y_test,y_hat)\n",
    "    \n",
    "    return auc"
   ]
  },
  {
   "cell_type": "code",
   "execution_count": 23,
   "metadata": {},
   "outputs": [
    {
     "name": "stdout",
     "output_type": "stream",
     "text": [
      "k = 1: 0.687\n",
      "k = 2: 0.697\n",
      "k = 4: 0.732\n",
      "k = 8: 0.665\n",
      "k = 16: 0.623\n",
      "k = 32: 0.554\n"
     ]
    },
    {
     "name": "stderr",
     "output_type": "stream",
     "text": [
      "C:\\Users\\Bao Tran\\anaconda3\\lib\\site-packages\\sklearn\\feature_selection\\_univariate_selection.py:114: UserWarning: Features [ 463  736  771  885  968  980 1054 1071 1074 1080 1086 1088 1091 1101\n",
      " 1102 1109 1129 1135 1149 1177 1187 1198 1262 1369 1434 1441 1489 1495\n",
      " 1537 1540 1566 1588] are constant.\n",
      "  warnings.warn(\"Features %s are constant.\" % constant_features_idx,\n",
      "C:\\Users\\Bao Tran\\anaconda3\\lib\\site-packages\\sklearn\\feature_selection\\_univariate_selection.py:116: RuntimeWarning: invalid value encountered in true_divide\n",
      "  f = msb / msw\n",
      "C:\\Users\\Bao Tran\\anaconda3\\lib\\site-packages\\sklearn\\feature_selection\\_univariate_selection.py:114: UserWarning: Features [ 463  736  771  885  968  980 1054 1071 1074 1080 1086 1088 1091 1101\n",
      " 1102 1109 1129 1135 1149 1177 1187 1198 1262 1369 1434 1441 1489 1495\n",
      " 1537 1540 1566 1588] are constant.\n",
      "  warnings.warn(\"Features %s are constant.\" % constant_features_idx,\n",
      "C:\\Users\\Bao Tran\\anaconda3\\lib\\site-packages\\sklearn\\feature_selection\\_univariate_selection.py:116: RuntimeWarning: invalid value encountered in true_divide\n",
      "  f = msb / msw\n",
      "C:\\Users\\Bao Tran\\anaconda3\\lib\\site-packages\\sklearn\\feature_selection\\_univariate_selection.py:114: UserWarning: Features [ 463  736  771  885  968  980 1054 1071 1074 1080 1086 1088 1091 1101\n",
      " 1102 1109 1129 1135 1149 1177 1187 1198 1262 1369 1434 1441 1489 1495\n",
      " 1537 1540 1566 1588] are constant.\n",
      "  warnings.warn(\"Features %s are constant.\" % constant_features_idx,\n",
      "C:\\Users\\Bao Tran\\anaconda3\\lib\\site-packages\\sklearn\\feature_selection\\_univariate_selection.py:116: RuntimeWarning: invalid value encountered in true_divide\n",
      "  f = msb / msw\n",
      "C:\\Users\\Bao Tran\\anaconda3\\lib\\site-packages\\sklearn\\feature_selection\\_univariate_selection.py:114: UserWarning: Features [ 463  736  771  885  968  980 1054 1071 1074 1080 1086 1088 1091 1101\n",
      " 1102 1109 1129 1135 1149 1177 1187 1198 1262 1369 1434 1441 1489 1495\n",
      " 1537 1540 1566 1588] are constant.\n",
      "  warnings.warn(\"Features %s are constant.\" % constant_features_idx,\n",
      "C:\\Users\\Bao Tran\\anaconda3\\lib\\site-packages\\sklearn\\feature_selection\\_univariate_selection.py:116: RuntimeWarning: invalid value encountered in true_divide\n",
      "  f = msb / msw\n",
      "C:\\Users\\Bao Tran\\anaconda3\\lib\\site-packages\\sklearn\\feature_selection\\_univariate_selection.py:114: UserWarning: Features [ 463  736  771  885  968  980 1054 1071 1074 1080 1086 1088 1091 1101\n",
      " 1102 1109 1129 1135 1149 1177 1187 1198 1262 1369 1434 1441 1489 1495\n",
      " 1537 1540 1566 1588] are constant.\n",
      "  warnings.warn(\"Features %s are constant.\" % constant_features_idx,\n",
      "C:\\Users\\Bao Tran\\anaconda3\\lib\\site-packages\\sklearn\\feature_selection\\_univariate_selection.py:116: RuntimeWarning: invalid value encountered in true_divide\n",
      "  f = msb / msw\n",
      "C:\\Users\\Bao Tran\\anaconda3\\lib\\site-packages\\sklearn\\feature_selection\\_univariate_selection.py:114: UserWarning: Features [ 463  736  771  885  968  980 1054 1071 1074 1080 1086 1088 1091 1101\n",
      " 1102 1109 1129 1135 1149 1177 1187 1198 1262 1369 1434 1441 1489 1495\n",
      " 1537 1540 1566 1588] are constant.\n",
      "  warnings.warn(\"Features %s are constant.\" % constant_features_idx,\n",
      "C:\\Users\\Bao Tran\\anaconda3\\lib\\site-packages\\sklearn\\feature_selection\\_univariate_selection.py:116: RuntimeWarning: invalid value encountered in true_divide\n",
      "  f = msb / msw\n"
     ]
    }
   ],
   "source": [
    "import sklearn.feature_selection \n",
    "\n",
    "ks = [1,2,4,8,16,32] #=> 16 is best\n",
    "for k in ks:\n",
    "    select = sklearn.feature_selection.SelectKBest(k=k)\n",
    "\n",
    "    selected_features = select.fit(X_train,y_train)\n",
    "    indices_selected = selected_features.get_support(indices=True)\n",
    "    colnames_selected = [X.columns[i] for i in indices_selected]\n",
    "\n",
    "    X_train_selected = X_train[colnames_selected]\n",
    "    X_test_selected = X_test[colnames_selected]\n",
    "    auc_processed = find_model_perf(DecisionTreeClassifier, X_train_selected,y_train,X_test_selected,y_test)\n",
    "\n",
    "    print(\"k = \" + str(k) + \": \" + str(round(auc_processed,3)))"
   ]
  },
  {
   "cell_type": "code",
   "execution_count": 24,
   "metadata": {},
   "outputs": [
    {
     "name": "stdout",
     "output_type": "stream",
     "text": [
      "k = 32: 0.697\n",
      "(700, 2) (300, 2)\n"
     ]
    },
    {
     "name": "stderr",
     "output_type": "stream",
     "text": [
      "C:\\Users\\Bao Tran\\anaconda3\\lib\\site-packages\\sklearn\\feature_selection\\_univariate_selection.py:114: UserWarning: Features [ 463  736  771  885  968  980 1054 1071 1074 1080 1086 1088 1091 1101\n",
      " 1102 1109 1129 1135 1149 1177 1187 1198 1262 1369 1434 1441 1489 1495\n",
      " 1537 1540 1566 1588] are constant.\n",
      "  warnings.warn(\"Features %s are constant.\" % constant_features_idx,\n",
      "C:\\Users\\Bao Tran\\anaconda3\\lib\\site-packages\\sklearn\\feature_selection\\_univariate_selection.py:116: RuntimeWarning: invalid value encountered in true_divide\n",
      "  f = msb / msw\n"
     ]
    },
    {
     "data": {
      "text/plain": [
       "['CheckingAccountStatus.none',\n",
       " 'CheckingAccountStatus.none_OtherInstallmentPlans.None']"
      ]
     },
     "execution_count": 24,
     "metadata": {},
     "output_type": "execute_result"
    }
   ],
   "source": [
    "select = sklearn.feature_selection.SelectKBest(k=2)\n",
    "\n",
    "selected_features = select.fit(X_train,y_train)\n",
    "indices_selected = selected_features.get_support(indices=True)\n",
    "colnames_selected = [X.columns[i] for i in indices_selected]\n",
    "\n",
    "X_train_selected = X_train[colnames_selected]\n",
    "X_test_selected = X_test[colnames_selected]\n",
    "auc_processed = find_model_perf(DecisionTreeClassifier, X_train_selected,y_train,X_test_selected,y_test)\n",
    "\n",
    "print(\"k = \" + str(k) + \": \" + str(round(auc_processed,3)))\n",
    "print(X_train_selected.shape,X_test_selected.shape)\n",
    "colnames_selected"
   ]
  },
  {
   "cell_type": "code",
   "execution_count": 25,
   "metadata": {},
   "outputs": [
    {
     "name": "stdout",
     "output_type": "stream",
     "text": [
      "0.6969952184307759\n"
     ]
    }
   ],
   "source": [
    "auc_processed = find_model_perf(DecisionTreeClassifier, X_train_selected,y_train,X_test_selected,y_test)\n",
    "\n",
    "print(auc_processed)"
   ]
  },
  {
   "cell_type": "markdown",
   "metadata": {},
   "source": [
    "## Random Forests"
   ]
  },
  {
   "cell_type": "markdown",
   "metadata": {},
   "source": [
    "As discussed in the lecture videos, Decision Tree algorithms also have certain undesireable properties. Mainly the have low bias, which is good, but tend to have high variance - which is *not* so good (more about this problem here: https://en.wikipedia.org/wiki/Bias%E2%80%93variance_tradeoff)."
   ]
  },
  {
   "cell_type": "markdown",
   "metadata": {},
   "source": [
    "Noticing these problems, the late Professor Leo Breiman, in 2001, developed the Random Forests algorithm, which mitigates these problems, while at the same time providing even higher predictive accuracy than the majority of Decision Tree algorithm implementations. While the curriculum contains two excellent lectures on Random Forests, if you're interested, you can dive into the original paper here: https://link.springer.com/content/pdf/10.1023%2FA%3A1010933404324.pdf."
   ]
  },
  {
   "cell_type": "markdown",
   "metadata": {},
   "source": [
    "In the next part of this assignment, your are going to use the same \"German Credit\" dataset to train, tune, and measure the performance of a Random Forests model. You will also see certain functionalities that this model, even though it's a bit of a \"black box\", provides for some degree of interpretability."
   ]
  },
  {
   "cell_type": "markdown",
   "metadata": {},
   "source": [
    "First, let's build a Random Forests model, using the same best practices that you've used for your Decision Trees model. You can reuse the things you've already imported there, so no need to do any re-imports, new train/test splits, or loading up the data again."
   ]
  },
  {
   "cell_type": "code",
   "execution_count": 26,
   "metadata": {},
   "outputs": [],
   "source": [
    "from sklearn.ensemble import RandomForestClassifier"
   ]
  },
  {
   "cell_type": "code",
   "execution_count": 27,
   "metadata": {},
   "outputs": [
    {
     "name": "stdout",
     "output_type": "stream",
     "text": [
      "k = 32: 0.587\n",
      "0.7425559660943274\n"
     ]
    },
    {
     "name": "stderr",
     "output_type": "stream",
     "text": [
      "C:\\Users\\Bao Tran\\anaconda3\\lib\\site-packages\\sklearn\\feature_selection\\_univariate_selection.py:114: UserWarning: Features [ 463  736  771  885  968  980 1054 1071 1074 1080 1086 1088 1091 1101\n",
      " 1102 1109 1129 1135 1149 1177 1187 1198 1262 1369 1434 1441 1489 1495\n",
      " 1537 1540 1566 1588] are constant.\n",
      "  warnings.warn(\"Features %s are constant.\" % constant_features_idx,\n",
      "C:\\Users\\Bao Tran\\anaconda3\\lib\\site-packages\\sklearn\\feature_selection\\_univariate_selection.py:116: RuntimeWarning: invalid value encountered in true_divide\n",
      "  f = msb / msw\n"
     ]
    }
   ],
   "source": [
    "# Your code here! :)\n",
    "select = sklearn.feature_selection.SelectKBest(k=61)\n",
    "\n",
    "selected_features = select.fit(X_train,y_train)\n",
    "indices_selected = selected_features.get_support(indices=True)\n",
    "colnames_selected = [X.columns[i] for i in indices_selected]\n",
    "\n",
    "X_train_selected = X_train[colnames_selected]\n",
    "X_test_selected = X_test[colnames_selected]\n",
    "auc_processed = find_model_perf(DecisionTreeClassifier, X_train_selected,y_train,X_test_selected,y_test)\n",
    "\n",
    "print(\"k = \" + str(k) + \": \" + str(round(auc_processed,3)))\n",
    "auc_processed = find_model_perf(RandomForestClassifier, X_train_selected,y_train,X_test_selected,y_test)\n",
    "\n",
    "print(auc_processed)"
   ]
  },
  {
   "cell_type": "markdown",
   "metadata": {},
   "source": [
    "As mentioned, there are certain ways to \"peek\" into a model created by the Random Forests algorithm. The first, and most popular one, is the Feature Importance calculation functionality. This allows the ML practitioner to see an ordering of the importance of the features that have contributed the most to the predictive accuracy of the model. \n",
    "\n",
    "You can see how to use this in the scikit-learn documentation (http://scikit-learn.org/stable/modules/generated/sklearn.ensemble.RandomForestClassifier.html#sklearn.ensemble.RandomForestClassifier.feature_importances_). Now, if you tried this, you would just get an ordered table of not directly interpretable numeric values. Thus, it's much more useful to show the feature importance in a visual way. You can see an example of how that's done here: http://scikit-learn.org/stable/auto_examples/ensemble/plot_forest_importances.html#sphx-glr-auto-examples-ensemble-plot-forest-importances-py\n",
    "\n",
    "Now you try! Let's visualize the importance of features from your Random Forests model!"
   ]
  },
  {
   "cell_type": "code",
   "execution_count": 28,
   "metadata": {},
   "outputs": [],
   "source": [
    "# Your code here"
   ]
  },
  {
   "cell_type": "markdown",
   "metadata": {},
   "source": [
    "A final method for gaining some insight into the inner working of your Random Forests models is a so-called Partial Dependence Plot. The Partial Dependence Plot (PDP or PD plot) shows the marginal effect of a feature on the predicted outcome of a previously fit model. The prediction function is fixed at a few values of the chosen features and averaged over the other features. A partial dependence plot can show if the relationship between the target and a feature is linear, monotonic or more complex. \n",
    "\n",
    "In scikit-learn, PDPs are implemented and available for certain algorithms, but at this point (version 0.20.0) they are not yet implemented for Random Forests. Thankfully, there is an add-on package called **PDPbox** (https://pdpbox.readthedocs.io/en/latest/) which adds this functionality to Random Forests. The package is easy to install through pip."
   ]
  },
  {
   "cell_type": "code",
   "execution_count": 29,
   "metadata": {},
   "outputs": [
    {
     "name": "stdout",
     "output_type": "stream",
     "text": [
      "Collecting pdpbox\n",
      "  Downloading PDPbox-0.2.1.tar.gz (34.0 MB)\n",
      "Requirement already satisfied: pandas in c:\\users\\bao tran\\anaconda3\\lib\\site-packages (from pdpbox) (1.1.3)\n",
      "Requirement already satisfied: numpy in c:\\users\\bao tran\\anaconda3\\lib\\site-packages (from pdpbox) (1.19.2)\n",
      "Requirement already satisfied: scipy in c:\\users\\bao tran\\anaconda3\\lib\\site-packages (from pdpbox) (1.5.2)\n",
      "Requirement already satisfied: joblib in c:\\users\\bao tran\\anaconda3\\lib\\site-packages (from pdpbox) (0.17.0)\n",
      "Requirement already satisfied: psutil in c:\\users\\bao tran\\anaconda3\\lib\\site-packages (from pdpbox) (5.7.2)\n",
      "Collecting matplotlib==3.1.1\n",
      "  Downloading matplotlib-3.1.1.tar.gz (37.8 MB)\n",
      "Collecting sklearn\n",
      "  Downloading sklearn-0.0.tar.gz (1.1 kB)\n",
      "Requirement already satisfied: pytz>=2017.2 in c:\\users\\bao tran\\anaconda3\\lib\\site-packages (from pandas->pdpbox) (2020.1)\n",
      "Requirement already satisfied: python-dateutil>=2.7.3 in c:\\users\\bao tran\\anaconda3\\lib\\site-packages (from pandas->pdpbox) (2.8.1)\n",
      "Requirement already satisfied: cycler>=0.10 in c:\\users\\bao tran\\anaconda3\\lib\\site-packages (from matplotlib==3.1.1->pdpbox) (0.10.0)\n",
      "Requirement already satisfied: kiwisolver>=1.0.1 in c:\\users\\bao tran\\anaconda3\\lib\\site-packages (from matplotlib==3.1.1->pdpbox) (1.3.0)\n",
      "Requirement already satisfied: pyparsing!=2.0.4,!=2.1.2,!=2.1.6,>=2.0.1 in c:\\users\\bao tran\\anaconda3\\lib\\site-packages (from matplotlib==3.1.1->pdpbox) (2.4.7)\n",
      "Requirement already satisfied: scikit-learn in c:\\users\\bao tran\\anaconda3\\lib\\site-packages (from sklearn->pdpbox) (0.23.2)\n",
      "Requirement already satisfied: six>=1.5 in c:\\users\\bao tran\\anaconda3\\lib\\site-packages (from python-dateutil>=2.7.3->pandas->pdpbox) (1.15.0)\n",
      "Requirement already satisfied: threadpoolctl>=2.0.0 in c:\\users\\bao tran\\anaconda3\\lib\\site-packages (from scikit-learn->sklearn->pdpbox) (2.1.0)\n",
      "Building wheels for collected packages: pdpbox, matplotlib, sklearn\n",
      "  Building wheel for pdpbox (setup.py): started\n",
      "  Building wheel for pdpbox (setup.py): finished with status 'done'\n",
      "  Created wheel for pdpbox: filename=PDPbox-0.2.1-py3-none-any.whl size=35758244 sha256=e75c10069c179bdb2617961020b23b6c01fa4a8f0a2c4ccf9883f87485ee6971\n",
      "  Stored in directory: c:\\users\\bao tran\\appdata\\local\\pip\\cache\\wheels\\35\\fb\\ef\\a08dd2a1611435285fa3f9d9104bf554f10c2eb7293b526ccb\n",
      "  Building wheel for matplotlib (setup.py): started\n",
      "  Building wheel for matplotlib (setup.py): finished with status 'error'\n",
      "  Running setup.py clean for matplotlib\n",
      "  Building wheel for sklearn (setup.py): started\n",
      "  Building wheel for sklearn (setup.py): finished with status 'done'\n",
      "  Created wheel for sklearn: filename=sklearn-0.0-py2.py3-none-any.whl size=1321 sha256=6543090350d054d2871675c4f93eee4fcdfd165e9e813335e2a6892ec00bca7b\n",
      "  Stored in directory: c:\\users\\bao tran\\appdata\\local\\pip\\cache\\wheels\\22\\0b\\40\\fd3f795caaa1fb4c6cb738bc1f56100be1e57da95849bfc897\n",
      "Successfully built pdpbox sklearn"
     ]
    },
    {
     "name": "stderr",
     "output_type": "stream",
     "text": [
      "  ERROR: Command errored out with exit status 1:\n",
      "   command: 'C:\\Users\\Bao Tran\\anaconda3\\python.exe' -u -c 'import sys, setuptools, tokenize; sys.argv[0] = '\"'\"'C:\\\\Users\\\\Bao Tran\\\\AppData\\\\Local\\\\Temp\\\\pip-install-j6uoor09\\\\matplotlib\\\\setup.py'\"'\"'; __file__='\"'\"'C:\\\\Users\\\\Bao Tran\\\\AppData\\\\Local\\\\Temp\\\\pip-install-j6uoor09\\\\matplotlib\\\\setup.py'\"'\"';f=getattr(tokenize, '\"'\"'open'\"'\"', open)(__file__);code=f.read().replace('\"'\"'\\r\\n'\"'\"', '\"'\"'\\n'\"'\"');f.close();exec(compile(code, __file__, '\"'\"'exec'\"'\"'))' bdist_wheel -d 'C:\\Users\\Bao Tran\\AppData\\Local\\Temp\\pip-wheel-f1e3kwyt'\n",
      "       cwd: C:\\Users\\Bao Tran\\AppData\\Local\\Temp\\pip-install-j6uoor09\\matplotlib\\\n",
      "  Complete output (540 lines):\n",
      "  ================================================================================\n",
      "  Edit setup.cfg to change the build options\n",
      "  \n",
      "  BUILDING MATPLOTLIB\n",
      "    matplotlib: yes [3.1.1]\n",
      "        python: yes [3.8.5 (default, Sep  3 2020, 21:29:08) [MSC v.1916 64 bit\n",
      "                    (AMD64)]]\n",
      "      platform: yes [win32]\n",
      "  \n",
      "  OPTIONAL SUBPACKAGES\n",
      "   sample_data: yes [installing]\n",
      "         tests: no  [skipping due to configuration]\n",
      "  \n",
      "  OPTIONAL BACKEND EXTENSIONS\n",
      "           agg: yes [installing]\n",
      "         tkagg: yes [installing; run-time loading from Python Tcl/Tk]\n",
      "        macosx: no  [Mac OS-X only]\n",
      "  \n",
      "  OPTIONAL PACKAGE DATA\n",
      "          dlls: no  [skipping due to configuration]\n",
      "  \n",
      "  running bdist_wheel\n",
      "  running build\n",
      "  running build_py\n",
      "  creating build\n",
      "  creating build\\lib.win-amd64-3.8\n",
      "  copying lib\\pylab.py -> build\\lib.win-amd64-3.8\n",
      "  creating build\\lib.win-amd64-3.8\\matplotlib\n",
      "  copying lib\\matplotlib\\afm.py -> build\\lib.win-amd64-3.8\\matplotlib\n",
      "  copying lib\\matplotlib\\animation.py -> build\\lib.win-amd64-3.8\\matplotlib\n",
      "  copying lib\\matplotlib\\artist.py -> build\\lib.win-amd64-3.8\\matplotlib\n",
      "  copying lib\\matplotlib\\axis.py -> build\\lib.win-amd64-3.8\\matplotlib\n",
      "  copying lib\\matplotlib\\backend_bases.py -> build\\lib.win-amd64-3.8\\matplotlib\n",
      "  copying lib\\matplotlib\\backend_managers.py -> build\\lib.win-amd64-3.8\\matplotlib\n",
      "  copying lib\\matplotlib\\backend_tools.py -> build\\lib.win-amd64-3.8\\matplotlib\n",
      "  copying lib\\matplotlib\\bezier.py -> build\\lib.win-amd64-3.8\\matplotlib\n",
      "  copying lib\\matplotlib\\blocking_input.py -> build\\lib.win-amd64-3.8\\matplotlib\n",
      "  copying lib\\matplotlib\\category.py -> build\\lib.win-amd64-3.8\\matplotlib\n",
      "  copying lib\\matplotlib\\cm.py -> build\\lib.win-amd64-3.8\\matplotlib\n",
      "  copying lib\\matplotlib\\collections.py -> build\\lib.win-amd64-3.8\\matplotlib\n",
      "  copying lib\\matplotlib\\colorbar.py -> build\\lib.win-amd64-3.8\\matplotlib\n",
      "  copying lib\\matplotlib\\colors.py -> build\\lib.win-amd64-3.8\\matplotlib\n",
      "  copying lib\\matplotlib\\container.py -> build\\lib.win-amd64-3.8\\matplotlib\n",
      "  copying lib\\matplotlib\\contour.py -> build\\lib.win-amd64-3.8\\matplotlib\n",
      "  copying lib\\matplotlib\\dates.py -> build\\lib.win-amd64-3.8\\matplotlib\n",
      "  copying lib\\matplotlib\\docstring.py -> build\\lib.win-amd64-3.8\\matplotlib\n",
      "  copying lib\\matplotlib\\dviread.py -> build\\lib.win-amd64-3.8\\matplotlib\n",
      "  copying lib\\matplotlib\\figure.py -> build\\lib.win-amd64-3.8\\matplotlib\n",
      "  copying lib\\matplotlib\\fontconfig_pattern.py -> build\\lib.win-amd64-3.8\\matplotlib\n",
      "  copying lib\\matplotlib\\font_manager.py -> build\\lib.win-amd64-3.8\\matplotlib\n",
      "  copying lib\\matplotlib\\gridspec.py -> build\\lib.win-amd64-3.8\\matplotlib\n",
      "  copying lib\\matplotlib\\hatch.py -> build\\lib.win-amd64-3.8\\matplotlib\n",
      "  copying lib\\matplotlib\\image.py -> build\\lib.win-amd64-3.8\\matplotlib\n",
      "  copying lib\\matplotlib\\legend.py -> build\\lib.win-amd64-3.8\\matplotlib\n",
      "  copying lib\\matplotlib\\legend_handler.py -> build\\lib.win-amd64-3.8\\matplotlib\n",
      "  copying lib\\matplotlib\\lines.py -> build\\lib.win-amd64-3.8\\matplotlib\n",
      "  copying lib\\matplotlib\\markers.py -> build\\lib.win-amd64-3.8\\matplotlib\n",
      "  copying lib\\matplotlib\\mathtext.py -> build\\lib.win-amd64-3.8\\matplotlib\n",
      "  copying lib\\matplotlib\\mlab.py -> build\\lib.win-amd64-3.8\\matplotlib\n",
      "  copying lib\\matplotlib\\offsetbox.py -> build\\lib.win-amd64-3.8\\matplotlib\n",
      "  copying lib\\matplotlib\\patches.py -> build\\lib.win-amd64-3.8\\matplotlib\n",
      "  copying lib\\matplotlib\\path.py -> build\\lib.win-amd64-3.8\\matplotlib\n",
      "  copying lib\\matplotlib\\patheffects.py -> build\\lib.win-amd64-3.8\\matplotlib\n",
      "  copying lib\\matplotlib\\pylab.py -> build\\lib.win-amd64-3.8\\matplotlib\n",
      "  copying lib\\matplotlib\\pyplot.py -> build\\lib.win-amd64-3.8\\matplotlib\n",
      "  copying lib\\matplotlib\\quiver.py -> build\\lib.win-amd64-3.8\\matplotlib\n",
      "  copying lib\\matplotlib\\rcsetup.py -> build\\lib.win-amd64-3.8\\matplotlib\n",
      "  copying lib\\matplotlib\\sankey.py -> build\\lib.win-amd64-3.8\\matplotlib\n",
      "  copying lib\\matplotlib\\scale.py -> build\\lib.win-amd64-3.8\\matplotlib\n",
      "  copying lib\\matplotlib\\spines.py -> build\\lib.win-amd64-3.8\\matplotlib\n",
      "  copying lib\\matplotlib\\stackplot.py -> build\\lib.win-amd64-3.8\\matplotlib\n",
      "  copying lib\\matplotlib\\streamplot.py -> build\\lib.win-amd64-3.8\\matplotlib\n",
      "  copying lib\\matplotlib\\table.py -> build\\lib.win-amd64-3.8\\matplotlib\n",
      "  copying lib\\matplotlib\\texmanager.py -> build\\lib.win-amd64-3.8\\matplotlib\n",
      "  copying lib\\matplotlib\\text.py -> build\\lib.win-amd64-3.8\\matplotlib\n",
      "  copying lib\\matplotlib\\textpath.py -> build\\lib.win-amd64-3.8\\matplotlib\n"
     ]
    },
    {
     "name": "stdout",
     "output_type": "stream",
     "text": [
      "\n",
      "Failed to build matplotlib\n",
      "Installing collected packages: matplotlib, sklearn, pdpbox\n",
      "  Attempting uninstall: matplotlib\n",
      "    Found existing installation: matplotlib 3.3.2\n",
      "    Uninstalling matplotlib-3.3.2:\n"
     ]
    },
    {
     "name": "stderr",
     "output_type": "stream",
     "text": [
      "  copying lib\\matplotlib\\ticker.py -> build\\lib.win-amd64-3.8\\matplotlib\n",
      "  copying lib\\matplotlib\\tight_bbox.py -> build\\lib.win-amd64-3.8\\matplotlib\n",
      "  copying lib\\matplotlib\\tight_layout.py -> build\\lib.win-amd64-3.8\\matplotlib\n",
      "  copying lib\\matplotlib\\transforms.py -> build\\lib.win-amd64-3.8\\matplotlib\n",
      "  copying lib\\matplotlib\\type1font.py -> build\\lib.win-amd64-3.8\\matplotlib\n",
      "  copying lib\\matplotlib\\units.py -> build\\lib.win-amd64-3.8\\matplotlib\n",
      "  copying lib\\matplotlib\\widgets.py -> build\\lib.win-amd64-3.8\\matplotlib\n",
      "  copying lib\\matplotlib\\_animation_data.py -> build\\lib.win-amd64-3.8\\matplotlib\n",
      "  copying lib\\matplotlib\\_cm.py -> build\\lib.win-amd64-3.8\\matplotlib\n",
      "  copying lib\\matplotlib\\_cm_listed.py -> build\\lib.win-amd64-3.8\\matplotlib\n",
      "  copying lib\\matplotlib\\_color_data.py -> build\\lib.win-amd64-3.8\\matplotlib\n",
      "  copying lib\\matplotlib\\_constrained_layout.py -> build\\lib.win-amd64-3.8\\matplotlib\n",
      "  copying lib\\matplotlib\\_layoutbox.py -> build\\lib.win-amd64-3.8\\matplotlib\n",
      "  copying lib\\matplotlib\\_mathtext_data.py -> build\\lib.win-amd64-3.8\\matplotlib\n",
      "  copying lib\\matplotlib\\_pylab_helpers.py -> build\\lib.win-amd64-3.8\\matplotlib\n",
      "  copying lib\\matplotlib\\_version.py -> build\\lib.win-amd64-3.8\\matplotlib\n",
      "  copying lib\\matplotlib\\__init__.py -> build\\lib.win-amd64-3.8\\matplotlib\n",
      "  creating build\\lib.win-amd64-3.8\\mpl_toolkits\n",
      "  copying lib\\mpl_toolkits\\__init__.py -> build\\lib.win-amd64-3.8\\mpl_toolkits\n",
      "  creating build\\lib.win-amd64-3.8\\matplotlib\\axes\n",
      "  copying lib\\matplotlib\\axes\\_axes.py -> build\\lib.win-amd64-3.8\\matplotlib\\axes\n",
      "  copying lib\\matplotlib\\axes\\_base.py -> build\\lib.win-amd64-3.8\\matplotlib\\axes\n",
      "  copying lib\\matplotlib\\axes\\_secondary_axes.py -> build\\lib.win-amd64-3.8\\matplotlib\\axes\n",
      "  copying lib\\matplotlib\\axes\\_subplots.py -> build\\lib.win-amd64-3.8\\matplotlib\\axes\n",
      "  copying lib\\matplotlib\\axes\\__init__.py -> build\\lib.win-amd64-3.8\\matplotlib\\axes\n",
      "  creating build\\lib.win-amd64-3.8\\matplotlib\\backends\n",
      "  copying lib\\matplotlib\\backends\\backend_agg.py -> build\\lib.win-amd64-3.8\\matplotlib\\backends\n",
      "  copying lib\\matplotlib\\backends\\backend_cairo.py -> build\\lib.win-amd64-3.8\\matplotlib\\backends\n",
      "  copying lib\\matplotlib\\backends\\backend_gtk3.py -> build\\lib.win-amd64-3.8\\matplotlib\\backends\n",
      "  copying lib\\matplotlib\\backends\\backend_gtk3agg.py -> build\\lib.win-amd64-3.8\\matplotlib\\backends\n",
      "  copying lib\\matplotlib\\backends\\backend_gtk3cairo.py -> build\\lib.win-amd64-3.8\\matplotlib\\backends\n",
      "  copying lib\\matplotlib\\backends\\backend_macosx.py -> build\\lib.win-amd64-3.8\\matplotlib\\backends\n",
      "  copying lib\\matplotlib\\backends\\backend_mixed.py -> build\\lib.win-amd64-3.8\\matplotlib\\backends\n",
      "  copying lib\\matplotlib\\backends\\backend_nbagg.py -> build\\lib.win-amd64-3.8\\matplotlib\\backends\n",
      "  copying lib\\matplotlib\\backends\\backend_pdf.py -> build\\lib.win-amd64-3.8\\matplotlib\\backends\n",
      "  copying lib\\matplotlib\\backends\\backend_pgf.py -> build\\lib.win-amd64-3.8\\matplotlib\\backends\n",
      "  copying lib\\matplotlib\\backends\\backend_ps.py -> build\\lib.win-amd64-3.8\\matplotlib\\backends\n",
      "  copying lib\\matplotlib\\backends\\backend_qt4.py -> build\\lib.win-amd64-3.8\\matplotlib\\backends\n",
      "  copying lib\\matplotlib\\backends\\backend_qt4agg.py -> build\\lib.win-amd64-3.8\\matplotlib\\backends\n",
      "  copying lib\\matplotlib\\backends\\backend_qt4cairo.py -> build\\lib.win-amd64-3.8\\matplotlib\\backends\n",
      "  copying lib\\matplotlib\\backends\\backend_qt5.py -> build\\lib.win-amd64-3.8\\matplotlib\\backends\n",
      "  copying lib\\matplotlib\\backends\\backend_qt5agg.py -> build\\lib.win-amd64-3.8\\matplotlib\\backends\n",
      "  copying lib\\matplotlib\\backends\\backend_qt5cairo.py -> build\\lib.win-amd64-3.8\\matplotlib\\backends\n",
      "  copying lib\\matplotlib\\backends\\backend_svg.py -> build\\lib.win-amd64-3.8\\matplotlib\\backends\n",
      "  copying lib\\matplotlib\\backends\\backend_template.py -> build\\lib.win-amd64-3.8\\matplotlib\\backends\n",
      "  copying lib\\matplotlib\\backends\\backend_tkagg.py -> build\\lib.win-amd64-3.8\\matplotlib\\backends\n",
      "  copying lib\\matplotlib\\backends\\backend_tkcairo.py -> build\\lib.win-amd64-3.8\\matplotlib\\backends\n",
      "  copying lib\\matplotlib\\backends\\backend_webagg.py -> build\\lib.win-amd64-3.8\\matplotlib\\backends\n",
      "  copying lib\\matplotlib\\backends\\backend_webagg_core.py -> build\\lib.win-amd64-3.8\\matplotlib\\backends\n",
      "  copying lib\\matplotlib\\backends\\backend_wx.py -> build\\lib.win-amd64-3.8\\matplotlib\\backends\n",
      "  copying lib\\matplotlib\\backends\\backend_wxagg.py -> build\\lib.win-amd64-3.8\\matplotlib\\backends\n",
      "  copying lib\\matplotlib\\backends\\backend_wxcairo.py -> build\\lib.win-amd64-3.8\\matplotlib\\backends\n",
      "  copying lib\\matplotlib\\backends\\qt_compat.py -> build\\lib.win-amd64-3.8\\matplotlib\\backends\n",
      "  copying lib\\matplotlib\\backends\\tkagg.py -> build\\lib.win-amd64-3.8\\matplotlib\\backends\n",
      "  copying lib\\matplotlib\\backends\\windowing.py -> build\\lib.win-amd64-3.8\\matplotlib\\backends\n",
      "  copying lib\\matplotlib\\backends\\wx_compat.py -> build\\lib.win-amd64-3.8\\matplotlib\\backends\n",
      "  copying lib\\matplotlib\\backends\\_backend_pdf_ps.py -> build\\lib.win-amd64-3.8\\matplotlib\\backends\n",
      "  copying lib\\matplotlib\\backends\\_backend_tk.py -> build\\lib.win-amd64-3.8\\matplotlib\\backends\n",
      "  copying lib\\matplotlib\\backends\\__init__.py -> build\\lib.win-amd64-3.8\\matplotlib\\backends\n",
      "  creating build\\lib.win-amd64-3.8\\matplotlib\\cbook\n",
      "  copying lib\\matplotlib\\cbook\\deprecation.py -> build\\lib.win-amd64-3.8\\matplotlib\\cbook\n",
      "  copying lib\\matplotlib\\cbook\\__init__.py -> build\\lib.win-amd64-3.8\\matplotlib\\cbook\n",
      "  creating build\\lib.win-amd64-3.8\\matplotlib\\compat\n",
      "  copying lib\\matplotlib\\compat\\subprocess.py -> build\\lib.win-amd64-3.8\\matplotlib\\compat\n",
      "  copying lib\\matplotlib\\compat\\__init__.py -> build\\lib.win-amd64-3.8\\matplotlib\\compat\n",
      "  creating build\\lib.win-amd64-3.8\\matplotlib\\projections\n",
      "  copying lib\\matplotlib\\projections\\geo.py -> build\\lib.win-amd64-3.8\\matplotlib\\projections\n",
      "  copying lib\\matplotlib\\projections\\polar.py -> build\\lib.win-amd64-3.8\\matplotlib\\projections\n",
      "  copying lib\\matplotlib\\projections\\__init__.py -> build\\lib.win-amd64-3.8\\matplotlib\\projections\n",
      "  creating build\\lib.win-amd64-3.8\\matplotlib\\sphinxext\n",
      "  copying lib\\matplotlib\\sphinxext\\mathmpl.py -> build\\lib.win-amd64-3.8\\matplotlib\\sphinxext\n",
      "  copying lib\\matplotlib\\sphinxext\\plot_directive.py -> build\\lib.win-amd64-3.8\\matplotlib\\sphinxext\n",
      "  copying lib\\matplotlib\\sphinxext\\__init__.py -> build\\lib.win-amd64-3.8\\matplotlib\\sphinxext\n",
      "  creating build\\lib.win-amd64-3.8\\matplotlib\\style\n",
      "  copying lib\\matplotlib\\style\\core.py -> build\\lib.win-amd64-3.8\\matplotlib\\style\n",
      "  copying lib\\matplotlib\\style\\__init__.py -> build\\lib.win-amd64-3.8\\matplotlib\\style\n",
      "  creating build\\lib.win-amd64-3.8\\matplotlib\\testing\n",
      "  copying lib\\matplotlib\\testing\\compare.py -> build\\lib.win-amd64-3.8\\matplotlib\\testing\n",
      "  copying lib\\matplotlib\\testing\\conftest.py -> build\\lib.win-amd64-3.8\\matplotlib\\testing\n",
      "  copying lib\\matplotlib\\testing\\decorators.py -> build\\lib.win-amd64-3.8\\matplotlib\\testing\n",
      "  copying lib\\matplotlib\\testing\\determinism.py -> build\\lib.win-amd64-3.8\\matplotlib\\testing\n",
      "  copying lib\\matplotlib\\testing\\disable_internet.py -> build\\lib.win-amd64-3.8\\matplotlib\\testing\n",
      "  copying lib\\matplotlib\\testing\\exceptions.py -> build\\lib.win-amd64-3.8\\matplotlib\\testing\n",
      "  copying lib\\matplotlib\\testing\\__init__.py -> build\\lib.win-amd64-3.8\\matplotlib\\testing\n",
      "  creating build\\lib.win-amd64-3.8\\matplotlib\\tri\n",
      "  copying lib\\matplotlib\\tri\\triangulation.py -> build\\lib.win-amd64-3.8\\matplotlib\\tri\n",
      "  copying lib\\matplotlib\\tri\\tricontour.py -> build\\lib.win-amd64-3.8\\matplotlib\\tri\n",
      "  copying lib\\matplotlib\\tri\\trifinder.py -> build\\lib.win-amd64-3.8\\matplotlib\\tri\n",
      "  copying lib\\matplotlib\\tri\\triinterpolate.py -> build\\lib.win-amd64-3.8\\matplotlib\\tri\n",
      "  copying lib\\matplotlib\\tri\\tripcolor.py -> build\\lib.win-amd64-3.8\\matplotlib\\tri\n",
      "  copying lib\\matplotlib\\tri\\triplot.py -> build\\lib.win-amd64-3.8\\matplotlib\\tri\n",
      "  copying lib\\matplotlib\\tri\\trirefine.py -> build\\lib.win-amd64-3.8\\matplotlib\\tri\n",
      "  copying lib\\matplotlib\\tri\\tritools.py -> build\\lib.win-amd64-3.8\\matplotlib\\tri\n",
      "  copying lib\\matplotlib\\tri\\__init__.py -> build\\lib.win-amd64-3.8\\matplotlib\\tri\n",
      "  creating build\\lib.win-amd64-3.8\\matplotlib\\backends\\qt_editor\n",
      "  copying lib\\matplotlib\\backends\\qt_editor\\figureoptions.py -> build\\lib.win-amd64-3.8\\matplotlib\\backends\\qt_editor\n",
      "  copying lib\\matplotlib\\backends\\qt_editor\\formlayout.py -> build\\lib.win-amd64-3.8\\matplotlib\\backends\\qt_editor\n",
      "  copying lib\\matplotlib\\backends\\qt_editor\\formsubplottool.py -> build\\lib.win-amd64-3.8\\matplotlib\\backends\\qt_editor\n",
      "  copying lib\\matplotlib\\backends\\qt_editor\\_formlayout.py -> build\\lib.win-amd64-3.8\\matplotlib\\backends\\qt_editor\n",
      "  copying lib\\matplotlib\\backends\\qt_editor\\__init__.py -> build\\lib.win-amd64-3.8\\matplotlib\\backends\\qt_editor\n",
      "  creating build\\lib.win-amd64-3.8\\matplotlib\\testing\\jpl_units\n",
      "  copying lib\\matplotlib\\testing\\jpl_units\\Duration.py -> build\\lib.win-amd64-3.8\\matplotlib\\testing\\jpl_units\n",
      "  copying lib\\matplotlib\\testing\\jpl_units\\Epoch.py -> build\\lib.win-amd64-3.8\\matplotlib\\testing\\jpl_units\n",
      "  copying lib\\matplotlib\\testing\\jpl_units\\EpochConverter.py -> build\\lib.win-amd64-3.8\\matplotlib\\testing\\jpl_units\n",
      "  copying lib\\matplotlib\\testing\\jpl_units\\StrConverter.py -> build\\lib.win-amd64-3.8\\matplotlib\\testing\\jpl_units\n",
      "  copying lib\\matplotlib\\testing\\jpl_units\\UnitDbl.py -> build\\lib.win-amd64-3.8\\matplotlib\\testing\\jpl_units\n",
      "  copying lib\\matplotlib\\testing\\jpl_units\\UnitDblConverter.py -> build\\lib.win-amd64-3.8\\matplotlib\\testing\\jpl_units\n",
      "  copying lib\\matplotlib\\testing\\jpl_units\\UnitDblFormatter.py -> build\\lib.win-amd64-3.8\\matplotlib\\testing\\jpl_units\n",
      "  copying lib\\matplotlib\\testing\\jpl_units\\__init__.py -> build\\lib.win-amd64-3.8\\matplotlib\\testing\\jpl_units\n",
      "  creating build\\lib.win-amd64-3.8\\mpl_toolkits\\axes_grid\n",
      "  copying lib\\mpl_toolkits\\axes_grid\\anchored_artists.py -> build\\lib.win-amd64-3.8\\mpl_toolkits\\axes_grid\n",
      "  copying lib\\mpl_toolkits\\axes_grid\\angle_helper.py -> build\\lib.win-amd64-3.8\\mpl_toolkits\\axes_grid\n",
      "  copying lib\\mpl_toolkits\\axes_grid\\axes_divider.py -> build\\lib.win-amd64-3.8\\mpl_toolkits\\axes_grid\n",
      "  copying lib\\mpl_toolkits\\axes_grid\\axes_grid.py -> build\\lib.win-amd64-3.8\\mpl_toolkits\\axes_grid\n",
      "  copying lib\\mpl_toolkits\\axes_grid\\axes_rgb.py -> build\\lib.win-amd64-3.8\\mpl_toolkits\\axes_grid\n",
      "  copying lib\\mpl_toolkits\\axes_grid\\axes_size.py -> build\\lib.win-amd64-3.8\\mpl_toolkits\\axes_grid\n",
      "  copying lib\\mpl_toolkits\\axes_grid\\axislines.py -> build\\lib.win-amd64-3.8\\mpl_toolkits\\axes_grid\n",
      "  copying lib\\mpl_toolkits\\axes_grid\\axisline_style.py -> build\\lib.win-amd64-3.8\\mpl_toolkits\\axes_grid\n",
      "  copying lib\\mpl_toolkits\\axes_grid\\axis_artist.py -> build\\lib.win-amd64-3.8\\mpl_toolkits\\axes_grid\n",
      "  copying lib\\mpl_toolkits\\axes_grid\\clip_path.py -> build\\lib.win-amd64-3.8\\mpl_toolkits\\axes_grid\n",
      "  copying lib\\mpl_toolkits\\axes_grid\\colorbar.py -> build\\lib.win-amd64-3.8\\mpl_toolkits\\axes_grid\n",
      "  copying lib\\mpl_toolkits\\axes_grid\\floating_axes.py -> build\\lib.win-amd64-3.8\\mpl_toolkits\\axes_grid\n",
      "  copying lib\\mpl_toolkits\\axes_grid\\grid_finder.py -> build\\lib.win-amd64-3.8\\mpl_toolkits\\axes_grid\n",
      "  copying lib\\mpl_toolkits\\axes_grid\\grid_helper_curvelinear.py -> build\\lib.win-amd64-3.8\\mpl_toolkits\\axes_grid\n",
      "  copying lib\\mpl_toolkits\\axes_grid\\inset_locator.py -> build\\lib.win-amd64-3.8\\mpl_toolkits\\axes_grid\n",
      "  copying lib\\mpl_toolkits\\axes_grid\\parasite_axes.py -> build\\lib.win-amd64-3.8\\mpl_toolkits\\axes_grid\n",
      "  copying lib\\mpl_toolkits\\axes_grid\\__init__.py -> build\\lib.win-amd64-3.8\\mpl_toolkits\\axes_grid\n",
      "  creating build\\lib.win-amd64-3.8\\mpl_toolkits\\axes_grid1\n",
      "  copying lib\\mpl_toolkits\\axes_grid1\\anchored_artists.py -> build\\lib.win-amd64-3.8\\mpl_toolkits\\axes_grid1\n",
      "  copying lib\\mpl_toolkits\\axes_grid1\\axes_divider.py -> build\\lib.win-amd64-3.8\\mpl_toolkits\\axes_grid1\n",
      "  copying lib\\mpl_toolkits\\axes_grid1\\axes_grid.py -> build\\lib.win-amd64-3.8\\mpl_toolkits\\axes_grid1\n",
      "  copying lib\\mpl_toolkits\\axes_grid1\\axes_rgb.py -> build\\lib.win-amd64-3.8\\mpl_toolkits\\axes_grid1\n",
      "  copying lib\\mpl_toolkits\\axes_grid1\\axes_size.py -> build\\lib.win-amd64-3.8\\mpl_toolkits\\axes_grid1\n",
      "  copying lib\\mpl_toolkits\\axes_grid1\\colorbar.py -> build\\lib.win-amd64-3.8\\mpl_toolkits\\axes_grid1\n",
      "  copying lib\\mpl_toolkits\\axes_grid1\\inset_locator.py -> build\\lib.win-amd64-3.8\\mpl_toolkits\\axes_grid1\n",
      "  copying lib\\mpl_toolkits\\axes_grid1\\mpl_axes.py -> build\\lib.win-amd64-3.8\\mpl_toolkits\\axes_grid1\n",
      "  copying lib\\mpl_toolkits\\axes_grid1\\parasite_axes.py -> build\\lib.win-amd64-3.8\\mpl_toolkits\\axes_grid1\n",
      "  copying lib\\mpl_toolkits\\axes_grid1\\__init__.py -> build\\lib.win-amd64-3.8\\mpl_toolkits\\axes_grid1\n",
      "  creating build\\lib.win-amd64-3.8\\mpl_toolkits\\axisartist\n",
      "  copying lib\\mpl_toolkits\\axisartist\\angle_helper.py -> build\\lib.win-amd64-3.8\\mpl_toolkits\\axisartist\n",
      "  copying lib\\mpl_toolkits\\axisartist\\axes_divider.py -> build\\lib.win-amd64-3.8\\mpl_toolkits\\axisartist\n",
      "  copying lib\\mpl_toolkits\\axisartist\\axes_grid.py -> build\\lib.win-amd64-3.8\\mpl_toolkits\\axisartist\n",
      "  copying lib\\mpl_toolkits\\axisartist\\axes_rgb.py -> build\\lib.win-amd64-3.8\\mpl_toolkits\\axisartist\n",
      "  copying lib\\mpl_toolkits\\axisartist\\axislines.py -> build\\lib.win-amd64-3.8\\mpl_toolkits\\axisartist\n",
      "  copying lib\\mpl_toolkits\\axisartist\\axisline_style.py -> build\\lib.win-amd64-3.8\\mpl_toolkits\\axisartist\n",
      "  copying lib\\mpl_toolkits\\axisartist\\axis_artist.py -> build\\lib.win-amd64-3.8\\mpl_toolkits\\axisartist\n",
      "  copying lib\\mpl_toolkits\\axisartist\\clip_path.py -> build\\lib.win-amd64-3.8\\mpl_toolkits\\axisartist\n",
      "  copying lib\\mpl_toolkits\\axisartist\\floating_axes.py -> build\\lib.win-amd64-3.8\\mpl_toolkits\\axisartist\n",
      "  copying lib\\mpl_toolkits\\axisartist\\grid_finder.py -> build\\lib.win-amd64-3.8\\mpl_toolkits\\axisartist\n",
      "  copying lib\\mpl_toolkits\\axisartist\\grid_helper_curvelinear.py -> build\\lib.win-amd64-3.8\\mpl_toolkits\\axisartist\n",
      "  copying lib\\mpl_toolkits\\axisartist\\parasite_axes.py -> build\\lib.win-amd64-3.8\\mpl_toolkits\\axisartist\n",
      "  copying lib\\mpl_toolkits\\axisartist\\__init__.py -> build\\lib.win-amd64-3.8\\mpl_toolkits\\axisartist\n",
      "  creating build\\lib.win-amd64-3.8\\mpl_toolkits\\mplot3d\n",
      "  copying lib\\mpl_toolkits\\mplot3d\\art3d.py -> build\\lib.win-amd64-3.8\\mpl_toolkits\\mplot3d\n",
      "  copying lib\\mpl_toolkits\\mplot3d\\axes3d.py -> build\\lib.win-amd64-3.8\\mpl_toolkits\\mplot3d\n",
      "  copying lib\\mpl_toolkits\\mplot3d\\axis3d.py -> build\\lib.win-amd64-3.8\\mpl_toolkits\\mplot3d\n",
      "  copying lib\\mpl_toolkits\\mplot3d\\proj3d.py -> build\\lib.win-amd64-3.8\\mpl_toolkits\\mplot3d\n",
      "  copying lib\\mpl_toolkits\\mplot3d\\__init__.py -> build\\lib.win-amd64-3.8\\mpl_toolkits\\mplot3d\n",
      "  creating build\\lib.win-amd64-3.8\\matplotlib\\mpl-data\n",
      "  creating build\\lib.win-amd64-3.8\\matplotlib\\mpl-data\\fonts\n",
      "  creating build\\lib.win-amd64-3.8\\matplotlib\\mpl-data\\fonts\\ttf\n",
      "  copying lib\\matplotlib\\mpl-data\\fonts\\ttf\\DejaVuSans-Bold.ttf -> build\\lib.win-amd64-3.8\\matplotlib\\mpl-data\\fonts\\ttf\n",
      "  creating build\\lib.win-amd64-3.8\\matplotlib\\mpl-data\\images\n",
      "  copying lib\\matplotlib\\mpl-data\\images\\hand_large.gif -> build\\lib.win-amd64-3.8\\matplotlib\\mpl-data\\images\n",
      "  creating build\\lib.win-amd64-3.8\\matplotlib\\mpl-data\\sample_data\n",
      "  copying lib\\matplotlib\\mpl-data\\sample_data\\README.txt -> build\\lib.win-amd64-3.8\\matplotlib\\mpl-data\\sample_data\n",
      "  creating build\\lib.win-amd64-3.8\\matplotlib\\mpl-data\\fonts\\pdfcorefonts\n",
      "  copying lib\\matplotlib\\mpl-data\\fonts\\pdfcorefonts\\Helvetica-BoldOblique.afm -> build\\lib.win-amd64-3.8\\matplotlib\\mpl-data\\fonts\\pdfcorefonts\n",
      "  creating build\\lib.win-amd64-3.8\\matplotlib\\mpl-data\\fonts\\afm\n",
      "  copying lib\\matplotlib\\mpl-data\\fonts\\afm\\cmtt10.afm -> build\\lib.win-amd64-3.8\\matplotlib\\mpl-data\\fonts\\afm\n",
      "  copying lib\\matplotlib\\mpl-data\\sample_data\\None_vs_nearest-pdf.png -> build\\lib.win-amd64-3.8\\matplotlib\\mpl-data\\sample_data\n",
      "  creating build\\lib.win-amd64-3.8\\matplotlib\\mpl-data\\stylelib\n",
      "  copying lib\\matplotlib\\mpl-data\\stylelib\\seaborn.mplstyle -> build\\lib.win-amd64-3.8\\matplotlib\\mpl-data\\stylelib\n",
      "  copying lib\\matplotlib\\mpl-data\\stylelib\\_classic_test.mplstyle -> build\\lib.win-amd64-3.8\\matplotlib\\mpl-data\\stylelib\n",
      "  copying lib\\matplotlib\\mpl-data\\fonts\\afm\\putri8a.afm -> build\\lib.win-amd64-3.8\\matplotlib\\mpl-data\\fonts\\afm\n",
      "  copying lib\\matplotlib\\mpl-data\\fonts\\afm\\pbkl8a.afm -> build\\lib.win-amd64-3.8\\matplotlib\\mpl-data\\fonts\\afm\n",
      "  copying lib\\matplotlib\\mpl-data\\fonts\\afm\\phvr8an.afm -> build\\lib.win-amd64-3.8\\matplotlib\\mpl-data\\fonts\\afm\n",
      "  copying lib\\matplotlib\\mpl-data\\fonts\\ttf\\cmsy10.ttf -> build\\lib.win-amd64-3.8\\matplotlib\\mpl-data\\fonts\\ttf\n",
      "  copying lib\\matplotlib\\mpl-data\\images\\subplots.png -> build\\lib.win-amd64-3.8\\matplotlib\\mpl-data\\images\n",
      "  copying lib\\matplotlib\\mpl-data\\images\\home.svg -> build\\lib.win-amd64-3.8\\matplotlib\\mpl-data\\images\n",
      "  copying lib\\matplotlib\\mpl-data\\images\\zoom_to_rect_large.png -> build\\lib.win-amd64-3.8\\matplotlib\\mpl-data\\images\n",
      "  copying lib\\matplotlib\\mpl-data\\stylelib\\seaborn-notebook.mplstyle -> build\\lib.win-amd64-3.8\\matplotlib\\mpl-data\\stylelib\n",
      "  copying lib\\matplotlib\\mpl-data\\images\\filesave.gif -> build\\lib.win-amd64-3.8\\matplotlib\\mpl-data\\images\n",
      "  copying lib\\matplotlib\\mpl-data\\stylelib\\Solarize_Light2.mplstyle -> build\\lib.win-amd64-3.8\\matplotlib\\mpl-data\\stylelib\n",
      "  copying lib\\matplotlib\\mpl-data\\sample_data\\demodata.csv -> build\\lib.win-amd64-3.8\\matplotlib\\mpl-data\\sample_data\n",
      "  creating build\\lib.win-amd64-3.8\\matplotlib\\backends\\web_backend\n",
      "  creating build\\lib.win-amd64-3.8\\matplotlib\\backends\\web_backend\\jquery-ui-1.12.1\n",
      "  copying lib\\matplotlib\\backends\\web_backend\\jquery-ui-1.12.1\\jquery-ui.theme.min.css -> build\\lib.win-amd64-3.8\\matplotlib\\backends\\web_backend\\jquery-ui-1.12.1\n",
      "  copying lib\\matplotlib\\mpl-data\\fonts\\afm\\pcrro8a.afm -> build\\lib.win-amd64-3.8\\matplotlib\\mpl-data\\fonts\\afm\n",
      "  copying lib\\matplotlib\\mpl-data\\sample_data\\grace_hopper.png -> build\\lib.win-amd64-3.8\\matplotlib\\mpl-data\\sample_data\n",
      "  copying lib\\matplotlib\\mpl-data\\stylelib\\dark_background.mplstyle -> build\\lib.win-amd64-3.8\\matplotlib\\mpl-data\\stylelib\n",
      "  creating build\\lib.win-amd64-3.8\\matplotlib\\backends\\web_backend\\css\n",
      "  copying lib\\matplotlib\\backends\\web_backend\\css\\boilerplate.css -> build\\lib.win-amd64-3.8\\matplotlib\\backends\\web_backend\\css\n",
      "  copying lib\\matplotlib\\mpl-data\\sample_data\\topobathy.npz -> build\\lib.win-amd64-3.8\\matplotlib\\mpl-data\\sample_data\n",
      "  creating build\\lib.win-amd64-3.8\\matplotlib\\mpl-data\\sample_data\\axes_grid\n",
      "  copying lib\\matplotlib\\mpl-data\\sample_data\\axes_grid\\bivariate_normal.npy -> build\\lib.win-amd64-3.8\\matplotlib\\mpl-data\\sample_data\\axes_grid\n",
      "  copying lib\\matplotlib\\mpl-data\\sample_data\\data_x_x2_x3.csv -> build\\lib.win-amd64-3.8\\matplotlib\\mpl-data\\sample_data\n",
      "  copying lib\\matplotlib\\mpl-data\\fonts\\ttf\\DejaVuSans.ttf -> build\\lib.win-amd64-3.8\\matplotlib\\mpl-data\\fonts\\ttf\n",
      "  copying lib\\matplotlib\\mpl-data\\images\\help_large.png -> build\\lib.win-amd64-3.8\\matplotlib\\mpl-data\\images\n",
      "  copying lib\\matplotlib\\mpl-data\\fonts\\afm\\pagdo8a.afm -> build\\lib.win-amd64-3.8\\matplotlib\\mpl-data\\fonts\\afm\n",
      "  copying lib\\matplotlib\\mpl-data\\images\\qt4_editor_options.pdf -> build\\lib.win-amd64-3.8\\matplotlib\\mpl-data\\images\n",
      "  copying lib\\matplotlib\\mpl-data\\stylelib\\ggplot.mplstyle -> build\\lib.win-amd64-3.8\\matplotlib\\mpl-data\\stylelib\n",
      "  copying lib\\matplotlib\\mpl-data\\fonts\\ttf\\STIXSizThreeSymBol.ttf -> build\\lib.win-amd64-3.8\\matplotlib\\mpl-data\\fonts\\ttf\n",
      "  copying lib\\matplotlib\\mpl-data\\sample_data\\aapl.npz -> build\\lib.win-amd64-3.8\\matplotlib\\mpl-data\\sample_data\n",
      "  copying lib\\matplotlib\\mpl-data\\fonts\\ttf\\STIXGeneralItalic.ttf -> build\\lib.win-amd64-3.8\\matplotlib\\mpl-data\\fonts\\ttf\n",
      "  copying lib\\matplotlib\\mpl-data\\images\\back_large.png -> build\\lib.win-amd64-3.8\\matplotlib\\mpl-data\\images\n",
      "  copying lib\\matplotlib\\mpl-data\\images\\forward.gif -> build\\lib.win-amd64-3.8\\matplotlib\\mpl-data\\images\n",
      "  copying lib\\matplotlib\\mpl-data\\fonts\\pdfcorefonts\\Courier-Bold.afm -> build\\lib.win-amd64-3.8\\matplotlib\\mpl-data\\fonts\\pdfcorefonts\n",
      "  copying lib\\matplotlib\\backends\\web_backend\\css\\page.css -> build\\lib.win-amd64-3.8\\matplotlib\\backends\\web_backend\\css\n",
      "  copying lib\\matplotlib\\mpl-data\\images\\help.svg -> build\\lib.win-amd64-3.8\\matplotlib\\mpl-data\\images\n",
      "  copying lib\\matplotlib\\mpl-data\\fonts\\pdfcorefonts\\Helvetica-Oblique.afm -> build\\lib.win-amd64-3.8\\matplotlib\\mpl-data\\fonts\\pdfcorefonts\n",
      "  copying lib\\matplotlib\\mpl-data\\fonts\\pdfcorefonts\\Times-BoldItalic.afm -> build\\lib.win-amd64-3.8\\matplotlib\\mpl-data\\fonts\\pdfcorefonts\n",
      "  copying lib\\matplotlib\\mpl-data\\stylelib\\classic.mplstyle -> build\\lib.win-amd64-3.8\\matplotlib\\mpl-data\\stylelib\n",
      "  copying lib\\matplotlib\\mpl-data\\images\\zoom_to_rect.svg -> build\\lib.win-amd64-3.8\\matplotlib\\mpl-data\\images\n",
      "  copying lib\\matplotlib\\mpl-data\\fonts\\ttf\\cmb10.ttf -> build\\lib.win-amd64-3.8\\matplotlib\\mpl-data\\fonts\\ttf\n",
      "  copying lib\\matplotlib\\mpl-data\\fonts\\afm\\pbkd8a.afm -> build\\lib.win-amd64-3.8\\matplotlib\\mpl-data\\fonts\\afm\n",
      "  copying lib\\matplotlib\\mpl-data\\images\\home_large.png -> build\\lib.win-amd64-3.8\\matplotlib\\mpl-data\\images\n",
      "  copying lib\\matplotlib\\mpl-data\\matplotlibrc -> build\\lib.win-amd64-3.8\\matplotlib\\mpl-data\n",
      "  copying lib\\matplotlib\\mpl-data\\fonts\\ttf\\cmmi10.ttf -> build\\lib.win-amd64-3.8\\matplotlib\\mpl-data\\fonts\\ttf\n",
      "  copying lib\\matplotlib\\mpl-data\\fonts\\afm\\cmr10.afm -> build\\lib.win-amd64-3.8\\matplotlib\\mpl-data\\fonts\\afm\n",
      "  copying lib\\matplotlib\\mpl-data\\images\\help_large.ppm -> build\\lib.win-amd64-3.8\\matplotlib\\mpl-data\\images\n",
      "  copying lib\\matplotlib\\mpl-data\\sample_data\\logo2.png -> build\\lib.win-amd64-3.8\\matplotlib\\mpl-data\\sample_data\n",
      "  copying lib\\matplotlib\\mpl-data\\images\\filesave_large.gif -> build\\lib.win-amd64-3.8\\matplotlib\\mpl-data\\images\n",
      "  copying lib\\matplotlib\\mpl-data\\images\\subplots_large.png -> build\\lib.win-amd64-3.8\\matplotlib\\mpl-data\\images\n",
      "  copying lib\\matplotlib\\mpl-data\\stylelib\\seaborn-dark.mplstyle -> build\\lib.win-amd64-3.8\\matplotlib\\mpl-data\\stylelib\n",
      "  copying lib\\matplotlib\\mpl-data\\images\\zoom_to_rect.pdf -> build\\lib.win-amd64-3.8\\matplotlib\\mpl-data\\images\n",
      "  copying lib\\matplotlib\\mpl-data\\fonts\\afm\\pncb8a.afm -> build\\lib.win-amd64-3.8\\matplotlib\\mpl-data\\fonts\\afm\n",
      "  copying lib\\matplotlib\\mpl-data\\fonts\\ttf\\STIXNonUni.ttf -> build\\lib.win-amd64-3.8\\matplotlib\\mpl-data\\fonts\\ttf\n",
      "  copying lib\\matplotlib\\mpl-data\\images\\qt4_editor_options.svg -> build\\lib.win-amd64-3.8\\matplotlib\\mpl-data\\images\n",
      "  creating build\\lib.win-amd64-3.8\\matplotlib\\backends\\web_backend\\js\n",
      "  copying lib\\matplotlib\\backends\\web_backend\\js\\nbagg_mpl.js -> build\\lib.win-amd64-3.8\\matplotlib\\backends\\web_backend\\js\n",
      "  copying lib\\matplotlib\\backends\\web_backend\\js\\mpl.js -> build\\lib.win-amd64-3.8\\matplotlib\\backends\\web_backend\\js\n",
      "  copying lib\\matplotlib\\mpl-data\\fonts\\ttf\\DejaVuSerif-Bold.ttf -> build\\lib.win-amd64-3.8\\matplotlib\\mpl-data\\fonts\\ttf\n",
      "  copying lib\\matplotlib\\mpl-data\\fonts\\afm\\phvlo8a.afm -> build\\lib.win-amd64-3.8\\matplotlib\\mpl-data\\fonts\\afm\n",
      "  copying lib\\matplotlib\\mpl-data\\fonts\\afm\\phvl8a.afm -> build\\lib.win-amd64-3.8\\matplotlib\\mpl-data\\fonts\\afm\n",
      "  copying lib\\matplotlib\\mpl-data\\fonts\\ttf\\STIXGeneralBol.ttf -> build\\lib.win-amd64-3.8\\matplotlib\\mpl-data\\fonts\\ttf\n",
      "  copying lib\\matplotlib\\mpl-data\\fonts\\afm\\putbi8a.afm -> build\\lib.win-amd64-3.8\\matplotlib\\mpl-data\\fonts\\afm\n",
      "  copying lib\\matplotlib\\backends\\web_backend\\jquery-ui-1.12.1\\jquery-ui.min.css -> build\\lib.win-amd64-3.8\\matplotlib\\backends\\web_backend\\jquery-ui-1.12.1"
     ]
    }
   ],
   "source": [
    "! pip install pdpbox"
   ]
  },
  {
   "cell_type": "markdown",
   "metadata": {},
   "source": [
    "While we encourage you to read the documentation for the package (and reading package documentation in general is a good habit to develop), the authors of the package have also written an excellent blog post on how to use it, showing examples on different algorithms from scikit-learn (the Random Forests example is towards the end of the blog post): https://briangriner.github.io/Partial_Dependence_Plots_presentation-BrianGriner-PrincetonPublicLibrary-4.14.18-updated-4.22.18.html"
   ]
  },
  {
   "cell_type": "markdown",
   "metadata": {},
   "source": [
    "So, armed with this new knowledge, feel free to pick a few features, and make a couple of Partial Dependence Plots of your own!"
   ]
  },
  {
   "cell_type": "code",
   "execution_count": null,
   "metadata": {},
   "outputs": [],
   "source": [
    "# Your code here!"
   ]
  },
  {
   "cell_type": "markdown",
   "metadata": {},
   "source": [
    "## (Optional) Advanced Boosting-Based Algorithms"
   ]
  },
  {
   "cell_type": "markdown",
   "metadata": {},
   "source": [
    "As explained in the video lectures, the next generation of algorithms after Random Forests (that use Bagging, a.k.a. Bootstrap Aggregation) were developed using Boosting, and the first one of these were Gradient Boosted Machines, which are implemented in scikit-learn (http://scikit-learn.org/stable/modules/ensemble.html#gradient-tree-boosting)."
   ]
  },
  {
   "cell_type": "markdown",
   "metadata": {},
   "source": [
    "Still, in recent years, a number of variations on GBMs have been developed by different research amd industry groups, all of them bringing improvements, both in speed, accuracy and functionality to the original Gradient Boosting algorithms.\n",
    "\n",
    "In no order of preference, these are:\n",
    "1. **XGBoost**: https://xgboost.readthedocs.io/en/latest/\n",
    "2. **CatBoost**: https://tech.yandex.com/catboost/\n",
    "3. **LightGBM**: https://lightgbm.readthedocs.io/en/latest/"
   ]
  },
  {
   "cell_type": "markdown",
   "metadata": {},
   "source": [
    "If you're using the Anaconda distribution, these are all very easy to install:"
   ]
  },
  {
   "cell_type": "code",
   "execution_count": null,
   "metadata": {},
   "outputs": [
    {
     "name": "stderr",
     "output_type": "stream",
     "text": [
      "  src/_png.cpp(317): warning C4996: 'sprintf': This function or variable may be unsafe. Consider using sprintf_s instead. To disable deprecation, use _CRT_SECURE_NO_WARNINGS. See online help for details.\n",
      "  C:\\Program Files (x86)\\Windows Kits\\10\\include\\10.0.17763.0\\ucrt\\stdio.h(1774): note: see declaration of 'sprintf'\n",
      "  C:\\Program Files (x86)\\Microsoft Visual Studio\\2017\\Community\\VC\\Tools\\MSVC\\14.16.27023\\bin\\HostX86\\x64\\cl.exe /c /nologo /Ox /W3 /GL /DNDEBUG /MD -DPY_ARRAY_UNIQUE_SYMBOL=MPL_matplotlib__png_ARRAY_API -DNPY_NO_DEPRECATED_API=NPY_1_7_API_VERSION -D__STDC_FORMAT_MACROS=1 \"-IC:\\Users\\Bao Tran\\anaconda3\\Library\\include\" \"-IC:\\Users\\Bao Tran\\anaconda3\\lib\\site-packages\\numpy\\core\\include\" \"-IC:\\Users\\Bao Tran\\anaconda3\\include\" \"-IC:\\Users\\Bao Tran\\anaconda3\\include\" \"-IC:\\Program Files (x86)\\Microsoft Visual Studio\\2017\\Community\\VC\\Tools\\MSVC\\14.16.27023\\ATLMFC\\include\" \"-IC:\\Program Files (x86)\\Microsoft Visual Studio\\2017\\Community\\VC\\Tools\\MSVC\\14.16.27023\\include\" \"-IC:\\Program Files (x86)\\Windows Kits\\NETFXSDK\\4.6.1\\include\\um\" \"-IC:\\Program Files (x86)\\Windows Kits\\10\\include\\10.0.17763.0\\ucrt\" \"-IC:\\Program Files (x86)\\Windows Kits\\10\\include\\10.0.17763.0\\shared\" \"-IC:\\Program Files (x86)\\Windows Kits\\10\\include\\10.0.17763.0\\um\" \"-IC:\\Program Files (x86)\\Windows Kits\\10\\include\\10.0.17763.0\\winrt\" \"-IC:\\Program Files (x86)\\Windows Kits\\10\\include\\10.0.17763.0\\cppwinrt\" /EHsc /Tpsrc/mplutils.cpp /Fobuild\\temp.win-amd64-3.8\\Release\\src/mplutils.obj\n",
      "  mplutils.cpp\n",
      "  C:\\Program Files (x86)\\Microsoft Visual Studio\\2017\\Community\\VC\\Tools\\MSVC\\14.16.27023\\bin\\HostX86\\x64\\link.exe /nologo /INCREMENTAL:NO /LTCG /DLL /MANIFEST:EMBED,ID=2 /MANIFESTUAC:NO \"/LIBPATH:C:\\Users\\Bao Tran\\anaconda3\\Library\\lib\" \"/LIBPATH:C:\\Users\\Bao Tran\\anaconda3\\libs\" \"/LIBPATH:C:\\Users\\Bao Tran\\anaconda3\\PCbuild\\amd64\" \"/LIBPATH:C:\\Program Files (x86)\\Microsoft Visual Studio\\2017\\Community\\VC\\Tools\\MSVC\\14.16.27023\\ATLMFC\\lib\\x64\" \"/LIBPATH:C:\\Program Files (x86)\\Microsoft Visual Studio\\2017\\Community\\VC\\Tools\\MSVC\\14.16.27023\\lib\\x64\" \"/LIBPATH:C:\\Program Files (x86)\\Windows Kits\\NETFXSDK\\4.6.1\\lib\\um\\x64\" \"/LIBPATH:C:\\Program Files (x86)\\Windows Kits\\10\\lib\\10.0.17763.0\\ucrt\\x64\" \"/LIBPATH:C:\\Program Files (x86)\\Windows Kits\\10\\lib\\10.0.17763.0\\um\\x64\" png.lib z.lib /EXPORT:PyInit__png build\\temp.win-amd64-3.8\\Release\\src/checkdep_libpng.obj build\\temp.win-amd64-3.8\\Release\\src/_png.obj build\\temp.win-amd64-3.8\\Release\\src/mplutils.obj /OUT:build\\lib.win-amd64-3.8\\matplotlib\\_png.cp38-win_amd64.pyd /IMPLIB:build\\temp.win-amd64-3.8\\Release\\src\\_png.cp38-win_amd64.lib\n",
      "  LINK : fatal error LNK1181: cannot open input file 'png.lib'\n",
      "  error: command 'C:\\\\Program Files (x86)\\\\Microsoft Visual Studio\\\\2017\\\\Community\\\\VC\\\\Tools\\\\MSVC\\\\14.16.27023\\\\bin\\\\HostX86\\\\x64\\\\link.exe' failed with exit status 1181\n",
      "  ----------------------------------------\n",
      "  ERROR: Failed building wheel for matplotlib\n",
      "ERROR: Could not install packages due to an EnvironmentError: [WinError 5] Access is denied: 'c:\\\\users\\\\bao tran\\\\anaconda3\\\\lib\\\\site-packages\\\\matplotlib\\\\backends\\\\_backend_agg.cp38-win_amd64.pyd'\n",
      "Consider using the `--user` option or check the permissions.\n",
      "\n"
     ]
    }
   ],
   "source": [
    "! conda install -c anaconda py-xgboost"
   ]
  },
  {
   "cell_type": "code",
   "execution_count": null,
   "metadata": {},
   "outputs": [],
   "source": [
    "! conda install -c conda-forge catboost"
   ]
  },
  {
   "cell_type": "code",
   "execution_count": null,
   "metadata": {},
   "outputs": [],
   "source": [
    "! conda install -c conda-forge lightgbm"
   ]
  },
  {
   "cell_type": "markdown",
   "metadata": {},
   "source": [
    "Your task in this optional section of the mini project is to read the documentation of these three libraries, and apply all of them to the \"German Credit\" dataset, just like you did in the case of Decision Trees and Random Forests."
   ]
  },
  {
   "cell_type": "markdown",
   "metadata": {},
   "source": [
    "The final deliverable of this section should be a table (can be a pandas DataFrame) which shows the accuracy of all the five algorthms taught in this mini project in one place."
   ]
  },
  {
   "cell_type": "markdown",
   "metadata": {},
   "source": [
    "Happy modeling! :)"
   ]
  },
  {
   "cell_type": "code",
   "execution_count": null,
   "metadata": {},
   "outputs": [],
   "source": []
  }
 ],
 "metadata": {
  "kernelspec": {
   "display_name": "Python 3",
   "language": "python",
   "name": "python3"
  },
  "language_info": {
   "codemirror_mode": {
    "name": "ipython",
    "version": 3
   },
   "file_extension": ".py",
   "mimetype": "text/x-python",
   "name": "python",
   "nbconvert_exporter": "python",
   "pygments_lexer": "ipython3",
   "version": "3.8.5"
  }
 },
 "nbformat": 4,
 "nbformat_minor": 2
}

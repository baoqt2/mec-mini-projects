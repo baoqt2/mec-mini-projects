{
 "cells": [
  {
   "cell_type": "markdown",
   "metadata": {},
   "source": [
    "# Pre-Modeling: Data Preprocessing and Feature Exploration in Python"
   ]
  },
  {
   "cell_type": "markdown",
   "metadata": {},
   "source": [
    "## Goals:"
   ]
  },
  {
   "cell_type": "markdown",
   "metadata": {},
   "source": [
    "* Goal: \n",
    "    * Pre-modeling/modeling == 80/20% of work\n",
    "    * Show the importance of data preprocessing, feature exploration, and feature engineering on model performance\n",
    "    * Go over a few effective pre-modeling\n",
    "* Format:\n",
    "    * Use an edited version of the 'adult' dataset **to predict income** with the objective of building a binary classification model\n",
    "* Python libraries:\n",
    "    * Numpy\n",
    "    * Panda\n",
    "    * Sci-kit learn\n",
    "    * Matplotlib\n",
    "Source of 'adult' dataset: https://archive.ics.uci.edu/ml/datasets/Adult"
   ]
  },
  {
   "cell_type": "markdown",
   "metadata": {},
   "source": [
    "# Agenda\n",
    "1. Modeling Overview\n",
    "2. Introduce the Data\n",
    "3. Basic Data Cleaning:\n",
    "*    A. Dealing with data-types\n",
    "*    B. Handling missing data\n",
    "4. More Data Exploration:\n",
    "*    A. Outlier detection\n",
    "*    B. Plotting distributions\n",
    "5. Feature Engineering:\n",
    "*    A. Interactions between features\n",
    "*    B. Dimensionality reduction using PCA\n",
    "6. Feature Selection and Model Building"
   ]
  },
  {
   "cell_type": "markdown",
   "metadata": {},
   "source": [
    "# Part 1: Modeling Overview\n",
    "## Review of Predictive Modeling\n",
    "### Definition:\n",
    "   * Statistical technique to predict unknown outcomes\n",
    "### Assessing model performance:\n",
    "   * Randomly split observations (datapoints) into train/test sets\n",
    "   * Build model on train set and assess performance on test set\n",
    "   * AUC of ROC is common performance metric (true/false positive rates)\n",
    "### Types of models for binary classification:\n",
    "   * Logistic regression\n",
    "   * Random Forest\n",
    "   * Gradient Boosted Trees\n",
    "   * Support Vector Machines\n",
    "   * etc."
   ]
  },
  {
   "cell_type": "code",
   "execution_count": null,
   "metadata": {},
   "outputs": [],
   "source": [
    "# Part 2: Introduce the Data"
   ]
  }
 ],
 "metadata": {
  "kernelspec": {
   "display_name": "Python 3",
   "language": "python",
   "name": "python3"
  },
  "language_info": {
   "codemirror_mode": {
    "name": "ipython",
    "version": 3
   },
   "file_extension": ".py",
   "mimetype": "text/x-python",
   "name": "python",
   "nbconvert_exporter": "python",
   "pygments_lexer": "ipython3",
   "version": "3.8.5"
  }
 },
 "nbformat": 4,
 "nbformat_minor": 4
}

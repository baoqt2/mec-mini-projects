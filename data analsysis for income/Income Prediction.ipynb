{
 "cells": [
  {
   "cell_type": "markdown",
   "metadata": {},
   "source": [
    "# Pre-Modeling: Data Preprocessing and Feature Exploration in Python"
   ]
  },
  {
   "cell_type": "markdown",
   "metadata": {},
   "source": [
    "## Goals:"
   ]
  },
  {
   "cell_type": "markdown",
   "metadata": {},
   "source": [
    "* Goal: \n",
    "    * Pre-modeling/modeling == 80/20% of work\n",
    "    * Show the importance of data preprocessing, feature exploration, and feature engineering on model performance\n",
    "    * Go over a few effective pre-modeling\n",
    "* Format:\n",
    "    * Use an edited version of the 'adult' dataset **to predict income** with the objective of building a binary classification model\n",
    "* Python libraries:\n",
    "    * Numpy\n",
    "    * Panda\n",
    "    * Sci-kit learn\n",
    "    * Matplotlib\n",
    "Source of 'adult' dataset: https://archive.ics.uci.edu/ml/datasets/Adult"
   ]
  },
  {
   "cell_type": "markdown",
   "metadata": {},
   "source": [
    "# Agenda\n",
    "1. Modeling Overview\n",
    "2. Introduce the Data\n",
    "3. Basic Data Cleaning:\n",
    "*    A. Dealing with data-types\n",
    "*    B. Handling missing data\n",
    "4. More Data Exploration:\n",
    "*    A. Outlier detection\n",
    "*    B. Plotting distributions\n",
    "5. Feature Engineering:\n",
    "*    A. Interactions between features\n",
    "*    B. Dimensionality reduction using PCA\n",
    "6. Feature Selection and Model Building"
   ]
  },
  {
   "cell_type": "markdown",
   "metadata": {},
   "source": [
    "# Part 1: Modeling Overview\n",
    "## Review of Predictive Modeling\n",
    "### Definition:\n",
    "   * Statistical technique to predict unknown outcomes\n",
    "### Assessing model performance:\n",
    "   * Randomly split observations (datapoints) into train/test sets\n",
    "   * Build model on train set and assess performance on test set\n",
    "   * AUC of ROC is common performance metric (true/false positive rates)\n",
    "### Types of models for binary classification:\n",
    "   * Logistic regression\n",
    "   * Random Forest\n",
    "   * Gradient Boosted Trees\n",
    "   * Support Vector Machines\n",
    "   * etc."
   ]
  },
  {
   "cell_type": "code",
   "execution_count": 1,
   "metadata": {},
   "outputs": [],
   "source": [
    "# Part 2: Introduce the Data\n",
    "import numpy as np\n",
    "import pandas as pd\n",
    "\n",
    "df = pd.read_csv('adult.data',na_values=['#NAME?'])\n",
    "columns = ['age','workclass','fnlwgt','education','education_num','marital_status','occupation','relationship','race','sex','capital_gain','capitol_loss','hour_per_week','native_country','income']\n",
    "df.columns = columns"
   ]
  },
  {
   "cell_type": "code",
   "execution_count": 2,
   "metadata": {},
   "outputs": [
    {
     "name": "stdout",
     "output_type": "stream",
     "text": [
      "   age          workclass  fnlwgt   education  education_num  \\\n",
      "0   50   Self-emp-not-inc   83311   Bachelors             13   \n",
      "1   38            Private  215646     HS-grad              9   \n",
      "2   53            Private  234721        11th              7   \n",
      "3   28            Private  338409   Bachelors             13   \n",
      "4   37            Private  284582     Masters             14   \n",
      "\n",
      "        marital_status          occupation    relationship    race      sex  \\\n",
      "0   Married-civ-spouse     Exec-managerial         Husband   White     Male   \n",
      "1             Divorced   Handlers-cleaners   Not-in-family   White     Male   \n",
      "2   Married-civ-spouse   Handlers-cleaners         Husband   Black     Male   \n",
      "3   Married-civ-spouse      Prof-specialty            Wife   Black   Female   \n",
      "4   Married-civ-spouse     Exec-managerial            Wife   White   Female   \n",
      "\n",
      "   capital_gain  capitol_loss  hour_per_week  native_country  income  \n",
      "0             0             0             13   United-States   <=50K  \n",
      "1             0             0             40   United-States   <=50K  \n",
      "2             0             0             40   United-States   <=50K  \n",
      "3             0             0             40            Cuba   <=50K  \n",
      "4             0             0             40   United-States   <=50K  \n"
     ]
    }
   ],
   "source": [
    "print(df.head(5))"
   ]
  },
  {
   "cell_type": "code",
   "execution_count": 3,
   "metadata": {},
   "outputs": [
    {
     "name": "stdout",
     "output_type": "stream",
     "text": [
      "Index(['age', 'workclass', 'fnlwgt', 'education', 'education_num',\n",
      "       'marital_status', 'occupation', 'relationship', 'race', 'sex',\n",
      "       'capital_gain', 'capitol_loss', 'hour_per_week', 'native_country',\n",
      "       'income'],\n",
      "      dtype='object')\n",
      " <=50K    24719\n",
      " >50K      7841\n",
      "Name: income, dtype: int64\n"
     ]
    }
   ],
   "source": [
    "#Take a look at the outcome variable: 'income'\n",
    "print(df.columns)\n",
    "print(df['income'].value_counts())"
   ]
  },
  {
   "cell_type": "code",
   "execution_count": 16,
   "metadata": {},
   "outputs": [],
   "source": [
    "#Assign outcome as 0 if income <= 50k and as 1 if income > 50k\n",
    "df['income'] = [1 if x == '>50K' else 0 for x in df['income']]\n",
    "\n",
    "#assign X as a dataframe of features and Y as a Series of the outcome variable\n",
    "X = df.drop('income',1)\n",
    "y = df.income"
   ]
  },
  {
   "cell_type": "code",
   "execution_count": 17,
   "metadata": {},
   "outputs": [
    {
     "name": "stdout",
     "output_type": "stream",
     "text": [
      "   age          workclass  fnlwgt   education  education_num  \\\n",
      "0   50   Self-emp-not-inc   83311   Bachelors             13   \n",
      "1   38            Private  215646     HS-grad              9   \n",
      "2   53            Private  234721        11th              7   \n",
      "3   28            Private  338409   Bachelors             13   \n",
      "4   37            Private  284582     Masters             14   \n",
      "\n",
      "        marital_status          occupation    relationship    race      sex  \\\n",
      "0   Married-civ-spouse     Exec-managerial         Husband   White     Male   \n",
      "1             Divorced   Handlers-cleaners   Not-in-family   White     Male   \n",
      "2   Married-civ-spouse   Handlers-cleaners         Husband   Black     Male   \n",
      "3   Married-civ-spouse      Prof-specialty            Wife   Black   Female   \n",
      "4   Married-civ-spouse     Exec-managerial            Wife   White   Female   \n",
      "\n",
      "   capital_gain  capitol_loss  hour_per_week  native_country  \n",
      "0             0             0             13   United-States  \n",
      "1             0             0             40   United-States  \n",
      "2             0             0             40   United-States  \n",
      "3             0             0             40            Cuba  \n",
      "4             0             0             40   United-States  \n"
     ]
    }
   ],
   "source": [
    "print(X.head())\n"
   ]
  },
  {
   "cell_type": "code",
   "execution_count": 18,
   "metadata": {},
   "outputs": [
    {
     "name": "stdout",
     "output_type": "stream",
     "text": [
      "0    0\n",
      "1    0\n",
      "2    0\n",
      "3    0\n",
      "4    0\n",
      "Name: income, dtype: int64\n"
     ]
    }
   ],
   "source": [
    "print(y.head())"
   ]
  },
  {
   "cell_type": "code",
   "execution_count": null,
   "metadata": {},
   "outputs": [],
   "source": []
  }
 ],
 "metadata": {
  "kernelspec": {
   "display_name": "Python 3",
   "language": "python",
   "name": "python3"
  },
  "language_info": {
   "codemirror_mode": {
    "name": "ipython",
    "version": 3
   },
   "file_extension": ".py",
   "mimetype": "text/x-python",
   "name": "python",
   "nbconvert_exporter": "python",
   "pygments_lexer": "ipython3",
   "version": "3.8.5"
  }
 },
 "nbformat": 4,
 "nbformat_minor": 4
}

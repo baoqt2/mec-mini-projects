{
 "cells": [
  {
   "cell_type": "markdown",
   "metadata": {},
   "source": [
    "# Pre-Modeling: Data Preprocessing and Feature Exploration in Python"
   ]
  },
  {
   "cell_type": "markdown",
   "metadata": {},
   "source": [
    "## Goals:"
   ]
  },
  {
   "cell_type": "markdown",
   "metadata": {},
   "source": [
    "* Goal: \n",
    "    * Pre-modeling/modeling == 80/20% of work\n",
    "    * Show the importance of data preprocessing, feature exploration, and feature engineering on model performance\n",
    "    * Go over a few effective pre-modeling\n",
    "* Format:\n",
    "    * Use an edited version of the 'adult' dataset **to predict income** with the objective of building a binary classification model\n",
    "* Python libraries:\n",
    "    * Numpy\n",
    "    * Panda\n",
    "    * Sci-kit learn\n",
    "    * Matplotlib\n",
    "Source of 'adult' dataset: https://archive.ics.uci.edu/ml/datasets/Adult"
   ]
  },
  {
   "cell_type": "markdown",
   "metadata": {},
   "source": [
    "# Agenda\n",
    "1. Modeling Overview\n",
    "2. Introduce the Data\n",
    "3. Basic Data Cleaning:\n",
    "*    A. Dealing with data-types\n",
    "*    B. Handling missing data\n",
    "4. More Data Exploration:\n",
    "*    A. Outlier detection\n",
    "*    B. Plotting distributions\n",
    "5. Feature Engineering:\n",
    "*    A. Interactions between features\n",
    "*    B. Dimensionality reduction using PCA\n",
    "6. Feature Selection and Model Building"
   ]
  },
  {
   "cell_type": "markdown",
   "metadata": {},
   "source": [
    "# Part 1: Modeling Overview\n",
    "## Review of Predictive Modeling\n",
    "### Definition:\n",
    "   * Statistical technique to predict unknown outcomes\n",
    "### Assessing model performance:\n",
    "   * Randomly split observations (datapoints) into train/test sets\n",
    "   * Build model on train set and assess performance on test set\n",
    "   * AUC of ROC is common performance metric (true/false positive rates)\n",
    "### Types of models for binary classification:\n",
    "   * Logistic regression\n",
    "   * Random Forest\n",
    "   * Gradient Boosted Trees\n",
    "   * Support Vector Machines\n",
    "   * etc."
   ]
  },
  {
   "cell_type": "code",
   "execution_count": 84,
   "metadata": {},
   "outputs": [],
   "source": [
    "# Part 2: Introduce the Data\n",
    "import numpy as np\n",
    "import pandas as pd\n",
    "\n",
    "df = pd.read_csv('adult.data',na_values=['#NAME?'])\n",
    "columns = ['age','workclass','fnlwgt','education','education_num','marital_status','occupation','relationship','race','sex','capital_gain','capitol_loss','hour_per_week','native_country','income']\n",
    "df.columns = columns"
   ]
  },
  {
   "cell_type": "code",
   "execution_count": 2,
   "metadata": {},
   "outputs": [
    {
     "name": "stdout",
     "output_type": "stream",
     "text": [
      "0      <=50K\n",
      "1      <=50K\n",
      "2      <=50K\n",
      "3      <=50K\n",
      "4      <=50K\n",
      "       ...  \n",
      "95      >50K\n",
      "96      >50K\n",
      "97     <=50K\n",
      "98     <=50K\n",
      "99      >50K\n",
      "Name: income, Length: 100, dtype: object\n"
     ]
    }
   ],
   "source": [
    "print(df.income.head(100))"
   ]
  },
  {
   "cell_type": "code",
   "execution_count": 3,
   "metadata": {},
   "outputs": [
    {
     "name": "stdout",
     "output_type": "stream",
     "text": [
      "Index(['age', 'workclass', 'fnlwgt', 'education', 'education_num',\n",
      "       'marital_status', 'occupation', 'relationship', 'race', 'sex',\n",
      "       'capital_gain', 'capitol_loss', 'hour_per_week', 'native_country',\n",
      "       'income'],\n",
      "      dtype='object')\n",
      " <=50K    24719\n",
      " >50K      7841\n",
      "Name: income, dtype: int64\n"
     ]
    }
   ],
   "source": [
    "#Take a look at the outcome variable: 'income'\n",
    "print(df.columns)\n",
    "print(df['income'].value_counts())"
   ]
  },
  {
   "cell_type": "code",
   "execution_count": 4,
   "metadata": {},
   "outputs": [],
   "source": [
    "#Assign outcome as 0 if income <= 50k and as 1 if income > 50k\n",
    "# for x in df['income']:\n",
    "#     if x == '>50K':\n",
    "#         df[income]=0\n",
    "#     elif x == '<=50K':\n",
    "#         df[income]=1\n",
    "# df['income_1'] = [0 if x == '>50K' elif x == '<=50K' for x in df['income']]\n",
    "\n",
    "#assign X as a dataframe of features and Y as a Series of the outcome variable\n",
    "y = df.income\n",
    "X = df.drop('income',1)\n"
   ]
  },
  {
   "cell_type": "code",
   "execution_count": 5,
   "metadata": {},
   "outputs": [
    {
     "name": "stdout",
     "output_type": "stream",
     "text": [
      "0         <=50K\n",
      "1         <=50K\n",
      "2         <=50K\n",
      "3         <=50K\n",
      "4         <=50K\n",
      "          ...  \n",
      "32555     <=50K\n",
      "32556      >50K\n",
      "32557     <=50K\n",
      "32558     <=50K\n",
      "32559      >50K\n",
      "Name: income, Length: 32560, dtype: object 0         <=50K\n",
      "1         <=50K\n",
      "2         <=50K\n",
      "3         <=50K\n",
      "4         <=50K\n",
      "          ...  \n",
      "32555     <=50K\n",
      "32556      >50K\n",
      "32557     <=50K\n",
      "32558     <=50K\n",
      "32559      >50K\n",
      "Name: income, Length: 32560, dtype: object\n"
     ]
    }
   ],
   "source": [
    "# print(X.head(15))\n",
    "print(df.income,y)"
   ]
  },
  {
   "cell_type": "code",
   "execution_count": 6,
   "metadata": {},
   "outputs": [
    {
     "name": "stderr",
     "output_type": "stream",
     "text": [
      "<ipython-input-6-c615c410e541>:6: SettingWithCopyWarning: \n",
      "A value is trying to be set on a copy of a slice from a DataFrame\n",
      "\n",
      "See the caveats in the documentation: https://pandas.pydata.org/pandas-docs/stable/user_guide/indexing.html#returning-a-view-versus-a-copy\n",
      "  y[i] = 0\n",
      "<ipython-input-6-c615c410e541>:4: SettingWithCopyWarning: \n",
      "A value is trying to be set on a copy of a slice from a DataFrame\n",
      "\n",
      "See the caveats in the documentation: https://pandas.pydata.org/pandas-docs/stable/user_guide/indexing.html#returning-a-view-versus-a-copy\n",
      "  y[i] = 1\n"
     ]
    }
   ],
   "source": [
    "incomes = ['>50K','<=50K']\n",
    "for i,x in enumerate(y):\n",
    "    if x[1] == '>':\n",
    "        y[i] = 1\n",
    "    else:\n",
    "        y[i] = 0\n",
    "    \n",
    "# print(y.head(15))"
   ]
  },
  {
   "cell_type": "code",
   "execution_count": 7,
   "metadata": {},
   "outputs": [
    {
     "name": "stdout",
     "output_type": "stream",
     "text": [
      "0      0\n",
      "1      0\n",
      "2      0\n",
      "3      0\n",
      "4      0\n",
      "      ..\n",
      "995    0\n",
      "996    1\n",
      "997    0\n",
      "998    1\n",
      "999    0\n",
      "Name: income, Length: 1000, dtype: object\n",
      "    10th   11th   12th   1st-4th   5th-6th   7th-8th   9th   Assoc-acdm  \\\n",
      "0      0      0      0         0         0         0     0            0   \n",
      "1      0      0      0         0         0         0     0            0   \n",
      "2      0      1      0         0         0         0     0            0   \n",
      "3      0      0      0         0         0         0     0            0   \n",
      "4      0      0      0         0         0         0     0            0   \n",
      "\n",
      "    Assoc-voc   Bachelors   Doctorate   HS-grad   Masters   Preschool  \\\n",
      "0           0           1           0         0         0           0   \n",
      "1           0           0           0         1         0           0   \n",
      "2           0           0           0         0         0           0   \n",
      "3           0           1           0         0         0           0   \n",
      "4           0           0           0         0         1           0   \n",
      "\n",
      "    Prof-school   Some-college  \n",
      "0             0              0  \n",
      "1             0              0  \n",
      "2             0              0  \n",
      "3             0              0  \n",
      "4             0              0  \n"
     ]
    }
   ],
   "source": [
    "print(y.head(1000))\n",
    "print(pd.get_dummies(X['education']).head(5))"
   ]
  },
  {
   "cell_type": "code",
   "execution_count": 8,
   "metadata": {},
   "outputs": [
    {
     "name": "stdout",
     "output_type": "stream",
     "text": [
      "Feature 'workclass' has 9 unique categories\n",
      "Feature 'education' has 16 unique categories\n",
      "Feature 'marital_status' has 7 unique categories\n",
      "Feature 'occupation' has 15 unique categories\n",
      "Feature 'relationship' has 6 unique categories\n",
      "Feature 'race' has 5 unique categories\n",
      "Feature 'sex' has 2 unique categories\n",
      "Feature 'native_country' has 42 unique categories\n"
     ]
    }
   ],
   "source": [
    "#Decide which categorical variables you want to use in model\n",
    "for col_name in X.columns:\n",
    "    if X[col_name].dtype == 'object':\n",
    "        unique_cat = len(X[col_name].unique())\n",
    "        print(\"Feature '{col_name}' has {unique_cat} unique categories\".format(col_name=col_name, unique_cat=unique_cat))"
   ]
  },
  {
   "cell_type": "code",
   "execution_count": 9,
   "metadata": {},
   "outputs": [
    {
     "name": "stdout",
     "output_type": "stream",
     "text": [
      " United-States    29169\n",
      " Mexico             643\n",
      " ?                  583\n",
      " Philippines        198\n",
      " Germany            137\n",
      " Canada             121\n",
      " Puerto-Rico        114\n",
      " El-Salvador        106\n",
      " India              100\n",
      " Cuba                95\n",
      "Name: native_country, dtype: int64\n"
     ]
    }
   ],
   "source": [
    "#Although, 'native_country' has a lot of unique categories, most categories only have a few observations\n",
    "print(X['native_country'].value_counts().sort_values(ascending=False).head(10))"
   ]
  },
  {
   "cell_type": "code",
   "execution_count": 10,
   "metadata": {},
   "outputs": [
    {
     "name": "stdout",
     "output_type": "stream",
     "text": [
      "United-States     32560\n",
      "Name: native_country, dtype: int64\n"
     ]
    }
   ],
   "source": [
    "X['native_country'] = ['United-States ' if x != 'United-States' else 'Other' for x in X['native_country']]\n",
    "print(X['native_country'].value_counts().sort_values(ascending=False))"
   ]
  },
  {
   "cell_type": "code",
   "execution_count": 11,
   "metadata": {},
   "outputs": [],
   "source": [
    "#function to dummy all the categorical variables used for modeling\n",
    "def dummy_df(df, todummy_list):\n",
    "    for x in todummy_list:\n",
    "        dummies = pd.get_dummies(df[x], prefix=x, dummy_na=False)\n",
    "        df = df.drop(x,1)\n",
    "        df = pd.concat([df,dummies],axis=1)\n",
    "    return df\n"
   ]
  },
  {
   "cell_type": "code",
   "execution_count": 12,
   "metadata": {},
   "outputs": [
    {
     "name": "stdout",
     "output_type": "stream",
     "text": [
      "   age  fnlwgt  education_num  capital_gain  capitol_loss  hour_per_week  \\\n",
      "0   50   83311             13             0             0             13   \n",
      "1   38  215646              9             0             0             40   \n",
      "2   53  234721              7             0             0             40   \n",
      "3   28  338409             13             0             0             40   \n",
      "4   37  284582             14             0             0             40   \n",
      "\n",
      "   workclass_ ?  workclass_ Federal-gov  workclass_ Local-gov  \\\n",
      "0             0                       0                     0   \n",
      "1             0                       0                     0   \n",
      "2             0                       0                     0   \n",
      "3             0                       0                     0   \n",
      "4             0                       0                     0   \n",
      "\n",
      "   workclass_ Never-worked  ...  relationship_ Unmarried  relationship_ Wife  \\\n",
      "0                        0  ...                        0                   0   \n",
      "1                        0  ...                        0                   0   \n",
      "2                        0  ...                        0                   0   \n",
      "3                        0  ...                        0                   1   \n",
      "4                        0  ...                        0                   1   \n",
      "\n",
      "   race_ Amer-Indian-Eskimo  race_ Asian-Pac-Islander  race_ Black  \\\n",
      "0                         0                         0            0   \n",
      "1                         0                         0            0   \n",
      "2                         0                         0            1   \n",
      "3                         0                         0            1   \n",
      "4                         0                         0            0   \n",
      "\n",
      "   race_ Other  race_ White  sex_ Female  sex_ Male  \\\n",
      "0            0            1            0          1   \n",
      "1            0            1            0          1   \n",
      "2            0            0            0          1   \n",
      "3            0            0            1          0   \n",
      "4            0            1            1          0   \n",
      "\n",
      "   native_country_United-States   \n",
      "0                              1  \n",
      "1                              1  \n",
      "2                              1  \n",
      "3                              1  \n",
      "4                              1  \n",
      "\n",
      "[5 rows x 67 columns]\n"
     ]
    }
   ],
   "source": [
    "#features to dummy\n",
    "todummy_list = ['workclass','education','marital_status','occupation','relationship','race','sex','native_country']\n",
    "X = dummy_df(X,todummy_list)\n",
    "print(X.head(5))"
   ]
  },
  {
   "cell_type": "markdown",
   "metadata": {},
   "source": [
    "# Handling missing values\n",
    "* Solutions: Replace missing value with another value (mean, median, highest frequency value of given feature"
   ]
  },
  {
   "cell_type": "code",
   "execution_count": 13,
   "metadata": {},
   "outputs": [
    {
     "data": {
      "text/plain": [
       "native_country_United-States     0\n",
       "education_ 11th                  0\n",
       "education_ Some-college          0\n",
       "education_ Prof-school           0\n",
       "education_ Preschool             0\n",
       "dtype: int64"
      ]
     },
     "execution_count": 13,
     "metadata": {},
     "output_type": "execute_result"
    }
   ],
   "source": [
    "#check how much data is missing\n",
    "X.isnull().sum().sort_values(ascending=False).head()"
   ]
  },
  {
   "cell_type": "code",
   "execution_count": 14,
   "metadata": {},
   "outputs": [],
   "source": [
    "#impute missing values using Imputer in sklearn.preprocessing\n",
    "#from sklearn.preprocessing import Imputer\n",
    "    \n",
    "#imp = Imputer(missing_values='NaN',strategy='median',axis=0)\n",
    "#imp.fit(X)\n",
    "#X = pd.DataFrame(data=imp.transform(X), columns=X.columns)\n",
    "#X.isnull().sum().sort_values(ascending=False).head()"
   ]
  },
  {
   "cell_type": "markdown",
   "metadata": {},
   "source": [
    "# Outlier Detection\n",
    "## Approaches for detecting outliers\n",
    "* Tukey IQR\n",
    "**Outliers == values below Q1-1.5(Q3-Q1) or above Q3+1.5(Q3-Q1)\n",
    "* Kernel Density Estimation\n",
    "**Bimodel distributions"
   ]
  },
  {
   "cell_type": "code",
   "execution_count": 15,
   "metadata": {},
   "outputs": [],
   "source": [
    "\n",
    "from IPython.display import Image"
   ]
  },
  {
   "cell_type": "code",
   "execution_count": 16,
   "metadata": {},
   "outputs": [],
   "source": [
    "#Image(filename='outliers.jpg')\n",
    "##TUKEY IQR\n",
    "def find_outliers_tukey(x):\n",
    "    q1,q3 = np.percentile(x,[25,75])\n",
    "    iqr=q3-q1\n",
    "    floor = q1-1.5*iqr\n",
    "    ceiling = q3 + 1.5*iqr\n",
    "    outlier_indices = list(x.index[(x<floor)|(x>ceiling)])\n",
    "    outlier_values = list(x[outlier_indices])\n",
    "    \n",
    "    return outlier_indices, outlier_values"
   ]
  },
  {
   "cell_type": "code",
   "execution_count": 17,
   "metadata": {},
   "outputs": [
    {
     "name": "stdout",
     "output_type": "stream",
     "text": [
      "[79 79 79 79 79 79 79 79 79 79 79 79 79 79 79 79 79 79 79 79 79 79 80 80\n",
      " 80 80 80 80 80 80 80 80 80 80 80 80 80 80 80 80 80 80 80 80 81 81 81 81\n",
      " 81 81 81 81 81 81 81 81 81 81 81 81 81 81 81 81 82 82 82 82 82 82 82 82\n",
      " 82 82 82 82 83 83 83 83 83 83 84 84 84 84 84 84 84 84 84 84 85 85 85 86\n",
      " 87 88 88 88 90 90 90 90 90 90 90 90 90 90 90 90 90 90 90 90 90 90 90 90\n",
      " 90 90 90 90 90 90 90 90 90 90 90 90 90 90 90 90 90 90 90 90 90 90 90]\n"
     ]
    }
   ],
   "source": [
    "tukey_indices, tukey_values = find_outliers_tukey(X['age'])\n",
    "print(np.sort(tukey_values))"
   ]
  },
  {
   "cell_type": "code",
   "execution_count": 18,
   "metadata": {},
   "outputs": [],
   "source": [
    "#KERNEL DENSITY ESTIMATION\n",
    "from sklearn.preprocessing import scale\n",
    "from statsmodels.nonparametric.kde import KDEUnivariate\n",
    "\n",
    "def find_outliers_kde(x):\n",
    "    x_scaled = scale(list(map(float,x)))\n",
    "    kde = KDEUnivariate(x_scaled)\n",
    "    kde.fit(bw=\"scott\",fft=True)\n",
    "    pred = kde.evaluate(x_scaled)\n",
    "    \n",
    "    n= sum(pred<0.5)\n",
    "    outlier_ind = np.asarray(pred).argsort()[:n]\n",
    "    outlier_value = np.asarray(x)[outlier_ind]\n",
    "    \n",
    "    return outlier_ind, outlier_value"
   ]
  },
  {
   "cell_type": "code",
   "execution_count": 19,
   "metadata": {},
   "outputs": [
    {
     "name": "stdout",
     "output_type": "stream",
     "text": [
      "[17 17 17 ... 90 90 90]\n"
     ]
    }
   ],
   "source": [
    "kde_indices, kde_values = find_outliers_kde(X['age'])\n",
    "print(np.sort(kde_values))"
   ]
  },
  {
   "cell_type": "code",
   "execution_count": 20,
   "metadata": {},
   "outputs": [],
   "source": [
    "%matplotlib inline\n",
    "import matplotlib.pyplot as plt\n",
    "\n",
    "def plot_histogram(x):\n",
    "    plt.hist(x, color='gray',alpha=0.5)\n",
    "    plt.title(\"Histogram of '{var_name}'\".format(var_name=x.name))\n",
    "    plt.xlabel(\"Value\")\n",
    "    plt.ylabel(\"Frequency\")\n",
    "    plt.show()"
   ]
  },
  {
   "cell_type": "code",
   "execution_count": 21,
   "metadata": {},
   "outputs": [
    {
     "data": {
      "image/png": "[encoded data removed]",
      "text/plain": [
       "<Figure size 432x288 with 1 Axes>"
      ]
     },
     "metadata": {
      "needs_background": "light"
     },
     "output_type": "display_data"
    }
   ],
   "source": [
    "plot_histogram(X['age'])"
   ]
  },
  {
   "cell_type": "code",
   "execution_count": 22,
   "metadata": {},
   "outputs": [],
   "source": [
    "def plot_histogram_dv(x,y):\n",
    "    plt.hist(list(x[y==0]),alpha=0.5,label='DV=0')\n",
    "    plt.hist(list(x[y==1]),alpha=0.5,label='DV=1')\n",
    "    plt.title(\"Histogram of '{var_name}' by DV Category\".format(var_name=x.name))\n",
    "    plt.xlabel(\"Value\")\n",
    "    plt.ylabel(\"Frequency\")\n",
    "    plt.legend(loc='upper right')\n",
    "    plt.show()"
   ]
  },
  {
   "cell_type": "code",
   "execution_count": 23,
   "metadata": {},
   "outputs": [
    {
     "data": {
      "image/png": "[encoded data removed]",
      "text/plain": [
       "<Figure size 432x288 with 1 Axes>"
      ]
     },
     "metadata": {
      "needs_background": "light"
     },
     "output_type": "display_data"
    }
   ],
   "source": [
    "plot_histogram_dv(X['age'],y)"
   ]
  },
  {
   "cell_type": "markdown",
   "metadata": {},
   "source": [
    "# Feature Engineering\n",
    "## Interactions amongst features\n",
    "* A simple two-way interaction is represented by:\n",
    "**X3=X1*X2, where X3 is the interaction between X1 and X2\n",
    "* Example: Interaction: education and polititcal ideology; outcome: concerns about climate change\n",
    "* While an increase in education amongst liberals or moderates increases concerns about climate change, an increase in education amongst conservatives has the opposite effect\n",
    "* The education-political ideology interaction captures more than the two features alone\n",
    "## Note that the interactions amongst dummy variables == 0\n",
    "## Recommend understanding your data and domain if possible and selectively choosing interactions"
   ]
  },
  {
   "cell_type": "code",
   "execution_count": 24,
   "metadata": {},
   "outputs": [],
   "source": [
    "#Use PolynomialFeatures in sklearn.preprocessing to create two-way interactions for all features\n",
    "from itertools import combinations\n",
    "from sklearn.preprocessing import PolynomialFeatures\n",
    "\n",
    "def add_interactions(df):\n",
    "    #get feature names\n",
    "    combos = list(combinations(list(df.columns),2))\n",
    "    colnames = list(df.columns) + ['_'.join(x) for x in combos]\n",
    "    \n",
    "    #Find interactions\n",
    "    poly = PolynomialFeatures(interaction_only=True,include_bias=False)\n",
    "    df= poly.fit_transform(X)\n",
    "    df = pd.DataFrame(df)\n",
    "    df.columns = colnames\n",
    "    \n",
    "    #Remove interaction terms wth all 0 values\n",
    "    noint_indicies = [i for i,x in enumerate(list((df==0).all())) if x]\n",
    "    df = df.drop(df.columns[noint_indicies],axis=1)\n",
    "    return df"
   ]
  },
  {
   "cell_type": "code",
   "execution_count": 25,
   "metadata": {},
   "outputs": [
    {
     "name": "stdout",
     "output_type": "stream",
     "text": [
      "    age    fnlwgt  education_num  capital_gain  capitol_loss  hour_per_week  \\\n",
      "0  50.0   83311.0           13.0           0.0           0.0           13.0   \n",
      "1  38.0  215646.0            9.0           0.0           0.0           40.0   \n",
      "2  53.0  234721.0            7.0           0.0           0.0           40.0   \n",
      "3  28.0  338409.0           13.0           0.0           0.0           40.0   \n",
      "4  37.0  284582.0           14.0           0.0           0.0           40.0   \n",
      "\n",
      "   workclass_ ?  workclass_ Federal-gov  workclass_ Local-gov  \\\n",
      "0           0.0                     0.0                   0.0   \n",
      "1           0.0                     0.0                   0.0   \n",
      "2           0.0                     0.0                   0.0   \n",
      "3           0.0                     0.0                   0.0   \n",
      "4           0.0                     0.0                   0.0   \n",
      "\n",
      "   workclass_ Never-worked  ...  race_ Black_sex_ Male  \\\n",
      "0                      0.0  ...                    0.0   \n",
      "1                      0.0  ...                    0.0   \n",
      "2                      0.0  ...                    1.0   \n",
      "3                      0.0  ...                    0.0   \n",
      "4                      0.0  ...                    0.0   \n",
      "\n",
      "   race_ Black_native_country_United-States   race_ Other_sex_ Female  \\\n",
      "0                                        0.0                      0.0   \n",
      "1                                        0.0                      0.0   \n",
      "2                                        1.0                      0.0   \n",
      "3                                        1.0                      0.0   \n",
      "4                                        0.0                      0.0   \n",
      "\n",
      "   race_ Other_sex_ Male  race_ Other_native_country_United-States   \\\n",
      "0                    0.0                                        0.0   \n",
      "1                    0.0                                        0.0   \n",
      "2                    0.0                                        0.0   \n",
      "3                    0.0                                        0.0   \n",
      "4                    0.0                                        0.0   \n",
      "\n",
      "   race_ White_sex_ Female  race_ White_sex_ Male  \\\n",
      "0                      0.0                    1.0   \n",
      "1                      0.0                    1.0   \n",
      "2                      0.0                    0.0   \n",
      "3                      0.0                    0.0   \n",
      "4                      1.0                    0.0   \n",
      "\n",
      "   race_ White_native_country_United-States   \\\n",
      "0                                        1.0   \n",
      "1                                        1.0   \n",
      "2                                        0.0   \n",
      "3                                        0.0   \n",
      "4                                        1.0   \n",
      "\n",
      "   sex_ Female_native_country_United-States   \\\n",
      "0                                        0.0   \n",
      "1                                        0.0   \n",
      "2                                        0.0   \n",
      "3                                        1.0   \n",
      "4                                        1.0   \n",
      "\n",
      "   sex_ Male_native_country_United-States   \n",
      "0                                      1.0  \n",
      "1                                      1.0  \n",
      "2                                      1.0  \n",
      "3                                      0.0  \n",
      "4                                      0.0  \n",
      "\n",
      "[5 rows x 1799 columns]\n"
     ]
    }
   ],
   "source": [
    "X = add_interactions(X)\n",
    "print(X.head(5))"
   ]
  },
  {
   "cell_type": "markdown",
   "metadata": {},
   "source": [
    "# Part 5: Dimensionality Reduction using PCA\n",
    "## PCA - a technique that transforms a dataset of many features into principal components that summarize the variance that underlies the data\n"
   ]
  },
  {
   "cell_type": "code",
   "execution_count": 26,
   "metadata": {},
   "outputs": [],
   "source": [
    "from sklearn.decomposition import PCA\n",
    "\n",
    "pca = PCA(n_components=10)\n",
    "X_pca = pd.DataFrame(pca.fit_transform(X))"
   ]
  },
  {
   "cell_type": "code",
   "execution_count": 27,
   "metadata": {},
   "outputs": [
    {
     "name": "stdout",
     "output_type": "stream",
     "text": [
      "              0             1             2             3             4  \\\n",
      "0 -2.048345e+08 -1.645470e+07 -6.698469e+06  2.217419e+06  3.097192e+05   \n",
      "1 -2.048308e+08 -1.638103e+07  1.614904e+06  6.847753e+04 -1.633792e+05   \n",
      "2 -2.048293e+08 -1.635042e+07  4.971081e+06  2.694655e+06 -9.023417e+05   \n",
      "3 -2.048286e+08 -1.633816e+07  6.411824e+06 -2.375597e+06  1.529167e+06   \n",
      "4 -2.048290e+08 -1.634583e+07  5.492804e+06 -1.324751e+05  1.307591e+06   \n",
      "\n",
      "              5              6              7              8              9  \n",
      "0  31958.738721 -142111.150862   43503.319724  -43564.328577   16365.440785  \n",
      "1  15800.354299   96151.201698 -117072.128919  -71807.674410  165730.575092  \n",
      "2  13262.633035 -131078.937579  -39245.519010   23912.663876    4745.220356  \n",
      "3 -46315.076597   10927.100543  402922.190065  271293.865587  102186.585626  \n",
      "4 -35049.741334    2154.071754  245039.327456  259047.634189  -50929.377887  \n"
     ]
    }
   ],
   "source": [
    "print(X_pca.head(5))"
   ]
  },
  {
   "cell_type": "markdown",
   "metadata": {},
   "source": [
    "# Part 6: Feature Selection and Model Building"
   ]
  },
  {
   "cell_type": "code",
   "execution_count": 36,
   "metadata": {},
   "outputs": [],
   "source": [
    "#to split data into train and test sets\n",
    "from sklearn.model_selection import train_test_split, cross_val_score\n",
    "\n",
    "X_train, X_test, y_train, y_test = train_test_split(X,y,train_size = .75,random_state=1)"
   ]
  },
  {
   "cell_type": "code",
   "execution_count": 37,
   "metadata": {},
   "outputs": [
    {
     "name": "stdout",
     "output_type": "stream",
     "text": [
      "(32560, 15) (32560, 1799)\n"
     ]
    }
   ],
   "source": [
    "print(df.shape, X.shape)\n"
   ]
  },
  {
   "cell_type": "code",
   "execution_count": 54,
   "metadata": {},
   "outputs": [
    {
     "name": "stderr",
     "output_type": "stream",
     "text": [
      "C:\\Users\\Bao Tran\\anaconda3\\lib\\site-packages\\sklearn\\feature_selection\\_univariate_selection.py:114: UserWarning: Features [  66  483  577  741  787  792  794  800  804  930 1128 1166 1388 1390] are constant.\n",
      "  warnings.warn(\"Features %s are constant.\" % constant_features_idx,\n",
      "C:\\Users\\Bao Tran\\anaconda3\\lib\\site-packages\\sklearn\\feature_selection\\_univariate_selection.py:116: RuntimeWarning: invalid value encountered in true_divide\n",
      "  f = msb / msw\n"
     ]
    }
   ],
   "source": [
    "import sklearn.feature_selection \n",
    "\n",
    "#try k = [1,2,4,8,16,32] => 16 is best\n",
    "select = sklearn.feature_selection.SelectKBest(k=16)\n",
    "\n",
    "selected_features = select.fit(X_train,y_train)\n",
    "indices_selected = selected_features.get_support(indices=True)\n",
    "colnames_selected = [X.columns[i] for i in indices_selected]\n",
    "\n",
    "X_train_selected = X_train[colnames_selected]\n",
    "X_test_selected = X_test[colnames_selected]"
   ]
  },
  {
   "cell_type": "code",
   "execution_count": 62,
   "metadata": {},
   "outputs": [
    {
     "name": "stdout",
     "output_type": "stream",
     "text": [
      "(24420, 16) (8140, 16)\n"
     ]
    },
    {
     "data": {
      "text/plain": [
       "['marital_status_ Married-civ-spouse',\n",
       " 'relationship_ Husband',\n",
       " 'age_education_num',\n",
       " 'age_marital_status_ Married-civ-spouse',\n",
       " 'age_relationship_ Husband',\n",
       " 'education_num_marital_status_ Married-civ-spouse',\n",
       " 'education_num_relationship_ Husband',\n",
       " 'hour_per_week_marital_status_ Married-civ-spouse',\n",
       " 'hour_per_week_relationship_ Husband',\n",
       " 'marital_status_ Married-civ-spouse_relationship_ Husband',\n",
       " 'marital_status_ Married-civ-spouse_race_ White',\n",
       " 'marital_status_ Married-civ-spouse_sex_ Male',\n",
       " 'marital_status_ Married-civ-spouse_native_country_United-States ',\n",
       " 'relationship_ Husband_race_ White',\n",
       " 'relationship_ Husband_sex_ Male',\n",
       " 'relationship_ Husband_native_country_United-States ']"
      ]
     },
     "execution_count": 62,
     "metadata": {},
     "output_type": "execute_result"
    }
   ],
   "source": [
    "print(X_train_selected.shape,X_test_selected.shape)\n",
    "colnames_selected"
   ]
  },
  {
   "cell_type": "code",
   "execution_count": 56,
   "metadata": {},
   "outputs": [],
   "source": [
    "from sklearn.linear_model import LogisticRegression\n",
    "from sklearn.metrics import roc_auc_score\n",
    "\n",
    "def find_model_perf(X_train, y_train, X_test, y_test):\n",
    "    y_train=y_train.astype('int')\n",
    "    y_test=y_test.astype('int')\n",
    "    model=LogisticRegression()\n",
    "    model.fit(X_train,y_train)\n",
    "    y_hat = [x[1] for x in model.predict_proba(X_test)]\n",
    "    auc = roc_auc_score(y_test,y_hat)\n",
    "    \n",
    "    return auc"
   ]
  },
  {
   "cell_type": "code",
   "execution_count": 63,
   "metadata": {},
   "outputs": [
    {
     "name": "stdout",
     "output_type": "stream",
     "text": [
      "0.8623474421046137\n"
     ]
    },
    {
     "name": "stderr",
     "output_type": "stream",
     "text": [
      "C:\\Users\\Bao Tran\\anaconda3\\lib\\site-packages\\sklearn\\linear_model\\_logistic.py:762: ConvergenceWarning: lbfgs failed to converge (status=1):\n",
      "STOP: TOTAL NO. of ITERATIONS REACHED LIMIT.\n",
      "\n",
      "Increase the number of iterations (max_iter) or scale the data as shown in:\n",
      "    https://scikit-learn.org/stable/modules/preprocessing.html\n",
      "Please also refer to the documentation for alternative solver options:\n",
      "    https://scikit-learn.org/stable/modules/linear_model.html#logistic-regression\n",
      "  n_iter_i = _check_optimize_result(\n"
     ]
    }
   ],
   "source": [
    "\n",
    "auc_processed = find_model_perf(X_train_selected,y_train,X_test_selected,y_test)\n",
    "\n",
    "print(auc_processed)\n"
   ]
  },
  {
   "cell_type": "markdown",
   "metadata": {},
   "source": [
    "# Build model using unprocessed data"
   ]
  },
  {
   "cell_type": "code",
   "execution_count": 94,
   "metadata": {},
   "outputs": [
    {
     "name": "stdout",
     "output_type": "stream",
     "text": [
      "(32560, 15)\n",
      "(32560, 15)\n"
     ]
    }
   ],
   "source": [
    "#Drop missing values so model does not throw any error\n",
    "\n",
    "df_unprocessed = df\n",
    "df_unprocessed = df_unprocessed.dropna(axis=0, how='any')\n",
    "print(df.shape)\n",
    "print(df_unprocessed.shape)"
   ]
  },
  {
   "cell_type": "code",
   "execution_count": 99,
   "metadata": {},
   "outputs": [],
   "source": [
    "#Remove non-numeric columns so model does not throw any error\n",
    "for col_name in df_unprocessed.columns:\n",
    "    if df_unprocessed[col_name].dtypes not in ['int32','int64','float32','float64']:\n",
    "        df_unprocessed = df_unprocessed.drop(col_name,1)"
   ]
  },
  {
   "cell_type": "code",
   "execution_count": 101,
   "metadata": {},
   "outputs": [],
   "source": [
    "#split into features and outcomes\n",
    "X_unprocessed = df_unprocessed#.drop('income',1)\n",
    "y_unprocessed = y"
   ]
  },
  {
   "cell_type": "code",
   "execution_count": 102,
   "metadata": {},
   "outputs": [
    {
     "name": "stdout",
     "output_type": "stream",
     "text": [
      "   age  fnlwgt  education_num  capital_gain  capitol_loss  hour_per_week\n",
      "0   50   83311             13             0             0             13\n",
      "1   38  215646              9             0             0             40\n",
      "2   53  234721              7             0             0             40\n",
      "3   28  338409             13             0             0             40\n",
      "4   37  284582             14             0             0             40\n"
     ]
    }
   ],
   "source": [
    "print(X_unprocessed.head(5))"
   ]
  },
  {
   "cell_type": "code",
   "execution_count": 103,
   "metadata": {},
   "outputs": [],
   "source": [
    "X_train_unprocessed, X_test_unprocessed, y_train, y_test = train_test_split(X_unprocessed,y_unprocessed,train_size = .75,random_state=1)"
   ]
  },
  {
   "cell_type": "code",
   "execution_count": 104,
   "metadata": {},
   "outputs": [
    {
     "name": "stdout",
     "output_type": "stream",
     "text": [
      "0.5764406461668232\n"
     ]
    }
   ],
   "source": [
    "auc_unprocessed = find_model_perf(X_train_unprocessed, y_train, X_test_unprocessed, y_test)\n",
    "print(auc_unprocessed)"
   ]
  },
  {
   "cell_type": "code",
   "execution_count": 105,
   "metadata": {},
   "outputs": [
    {
     "name": "stdout",
     "output_type": "stream",
     "text": [
      "AUC of model with data preprocessing: 0.8623474421046137\n",
      "AUC of model without data preprocessing: 0.5764406461668232\n",
      "Model improvement of preprocessing: 49.59865301640238%\n"
     ]
    }
   ],
   "source": [
    "print('AUC of model with data preprocessing: {auc}'.format(auc=auc_processed))\n",
    "print('AUC of model without data preprocessing: {auc}'.format(auc=auc_unprocessed))\n",
    "per_improve = ((auc_processed-auc_unprocessed)/auc_unprocessed)*100\n",
    "print('Model improvement of preprocessing: {per_improve}%'.format(per_improve = per_improve))"
   ]
  },
  {
   "cell_type": "code",
   "execution_count": null,
   "metadata": {},
   "outputs": [],
   "source": []
  }
 ],
 "metadata": {
  "kernelspec": {
   "display_name": "Python 3",
   "language": "python",
   "name": "python3"
  },
  "language_info": {
   "codemirror_mode": {
    "name": "ipython",
    "version": 3
   },
   "file_extension": ".py",
   "mimetype": "text/x-python",
   "name": "python",
   "nbconvert_exporter": "python",
   "pygments_lexer": "ipython3",
   "version": "3.8.5"
  }
 },
 "nbformat": 4,
 "nbformat_minor": 4
}
